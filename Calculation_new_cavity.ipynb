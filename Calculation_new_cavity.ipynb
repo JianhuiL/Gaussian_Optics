{
 "cells": [
  {
   "cell_type": "code",
   "execution_count": 26,
   "metadata": {},
   "outputs": [],
   "source": [
    "from __future__ import division\n",
    "from scipy.optimize import curve_fit\n",
    "from pylab import *\n",
    "%matplotlib inline"
   ]
  },
  {
   "attachments": {},
   "cell_type": "markdown",
   "metadata": {},
   "source": [
    "For a fundamental Gaussian beam the curvature at position Z is  $$\\frac{1}{R(z)} = \\frac{z}{z^2+z^2_R}$$\n",
    "Rayleigh range is $$Z_R = \\frac{\\pi \\omega^2_0 n}{\\lambda}$$ where $\\omega_0$ is the radius at the waist\n",
    "At position z along the beam, the spot size is $$\\omega(z) = \\omega_0 \\sqrt{1+(\\frac{z}{z_R})^2}$$"
   ]
  },
  {
   "cell_type": "markdown",
   "metadata": {},
   "source": []
  },
  {
   "cell_type": "markdown",
   "metadata": {},
   "source": [
    "#### Constant Parameters"
   ]
  },
  {
   "attachments": {},
   "cell_type": "markdown",
   "metadata": {},
   "source": [
    "All dimensions are scaled to millimeters (keep in mind when specifying waists and focal length)\n",
    "\n",
    "Make sure you put in your wavelength here!)"
   ]
  },
  {
   "cell_type": "code",
   "execution_count": 27,
   "metadata": {},
   "outputs": [],
   "source": [
    "mm=1e-3\n",
    "lam=852e-9/mm #wavelength"
   ]
  },
  {
   "attachments": {},
   "cell_type": "markdown",
   "metadata": {},
   "source": [
    "#### Basics functions"
   ]
  },
  {
   "attachments": {},
   "cell_type": "markdown",
   "metadata": {},
   "source": [
    "Function for propegation of Gaussian beam by ABCD matrix method.  See Yariv Quanutum Electronics, or Siegmann Lasers for textbook treatment"
   ]
  },
  {
   "cell_type": "code",
   "execution_count": 28,
   "metadata": {},
   "outputs": [],
   "source": [
    "def zr(waist):\n",
    "    #rayleigh range\n",
    "    return pi*waist**2/lam\n",
    "def waistz0(lam,z0):\n",
    "    return np.sqrt(lam*z0/np.pi)\n",
    "def waistz(z,z0,w0):\n",
    "    #beam waist as function of z\n",
    "    return w0*sqrt(1+((z-z0)/zr(w0))**2)\n",
    "def radiusz(z,z0,w0):\n",
    "    #beam radius of curvature as function of z\n",
    "    return (z-z0)*(1+((z-z0)/zr(w0))**2)\n",
    "def q0(w0):\n",
    "    #q parameter at waist\n",
    "    return 1j*pi*w0**2/lam\n",
    "def wfromq(q):\n",
    "    #convert q back to waist values\n",
    "    return sqrt(-1*lam/(pi*imag(1/q)))\n",
    "def propd(q,d):\n",
    "    #propegaction of q by distance d\n",
    "    return q+d\n",
    "def lensf(q,f):\n",
    "    #action of lens of focal lens f on q\n",
    "    return q/(-q/f+1)\n",
    "def qz(z,z0,w0):\n",
    "    #q parameter at z given w0 at z0\n",
    "    return propd(q0(w0),z-z0)"
   ]
  },
  {
   "attachments": {},
   "cell_type": "markdown",
   "metadata": {},
   "source": [
    "#### Find waist from two point measurement"
   ]
  },
  {
   "attachments": {},
   "cell_type": "markdown",
   "metadata": {},
   "source": [
    "Assume we measure the waist $w_1$ at $z=z_1=0$ and $w_2$ at $z=z_2$, find the location and value of the waist, $z_0,w_0$ (for both x and y)"
   ]
  },
  {
   "cell_type": "code",
   "execution_count": 29,
   "metadata": {},
   "outputs": [],
   "source": [
    "def findwaist(w1,w2,z2):\n",
    "    zdata=array([0,z2])\n",
    "    wdata=array([w1,w2])\n",
    "    #curvefit to waist function using p0=[z0,w0] as initial parameters\n",
    "    if w1>w2: #if focusing, using second waist as initial parameters\n",
    "        [z0,w0]=[2*z2,w2/2.]\n",
    "    else: #if diverging, use first waist\n",
    "        [z0,w0]=[-z2,w1/2.]\n",
    "    popt, pcov = curve_fit(waistz,zdata,wdata,p0=[z0,w0])\n",
    "    return popt #return fit paramers [z0,w0]"
   ]
  },
  {
   "cell_type": "code",
   "execution_count": 30,
   "metadata": {},
   "outputs": [
    {
     "name": "stdout",
     "output_type": "stream",
     "text": [
      "x: z0=-436.90 mm and w0=0.202 mm\n",
      "y: z0=-473.79 mm and w0=0.209 mm\n"
     ]
    },
    {
     "name": "stderr",
     "output_type": "stream",
     "text": [
      "c:\\Users\\yuanhang.yang\\Anaconda3\\envs\\SPB_test\\lib\\site-packages\\scipy\\optimize\\_minpack_py.py:881: OptimizeWarning: Covariance of the parameters could not be estimated\n",
      "  warnings.warn('Covariance of the parameters could not be estimated',\n"
     ]
    },
    {
     "data": {
      "text/plain": [
       "(-1000.0, 1000.0)"
      ]
     },
     "execution_count": 30,
     "metadata": {},
     "output_type": "execute_result"
    },
    {
     "data": {
      "image/png": "[encoded data removed]",
      "text/plain": [
       "<Figure size 640x480 with 1 Axes>"
      ]
     },
     "metadata": {},
     "output_type": "display_data"
    }
   ],
   "source": [
    "#measured values: (assumes z1=0)\n",
    "\n",
    "#x\n",
    "[xw1,xw2,xz2]=[.62,1.25,21*25.4-50.8] #measured values\n",
    "[xz0,xw0] = findwaist(xw1,xw2,xz2)\n",
    "print(\"x: z0=%0.2f mm and w0=%0.3f mm\" %(xz0,xw0))\n",
    "#y\n",
    "[yw1,yw2,yz2]=[0.65,1.26,21*25.4-50.8]  #measured values\n",
    "[yz0,yw0] = findwaist(yw1,yw2,yz2)\n",
    "print(\"y: z0=%0.2f mm and w0=%0.3f mm\" %(yz0,yw0))\n",
    "#[.504,.598,475]\n",
    "\n",
    "\n",
    "max_dist = 2000 #total propegaction distance in mm\n",
    "Nsteps = 5000\n",
    "zlist = linspace(-max_dist,max_dist,Nsteps)\n",
    "plot(0,xw1,'kx',markersize=10)\n",
    "plot(xz2,xw2,'kx',markersize=10)\n",
    "plot(xz0,xw0,'ko')\n",
    "\n",
    "plot(zlist,waistz(zlist,xz0,xw0),'k')\n",
    "plot(0,yw1,'rx',markersize=10)\n",
    "plot(yz2,yw2,'rx',markersize=10)\n",
    "plot(yz0,yw0,'ro')\n",
    "plot(zlist,waistz(zlist,yz0,yw0),'r')\n",
    "plt.axvline(x=22*25.4,color='k')\n",
    "plt.xlim(-1000,1000)\n",
    "\n"
   ]
  },
  {
   "attachments": {},
   "cell_type": "markdown",
   "metadata": {},
   "source": [
    "#### Set up beam propegation:"
   ]
  },
  {
   "cell_type": "code",
   "execution_count": 31,
   "metadata": {},
   "outputs": [
    {
     "name": "stdout",
     "output_type": "stream",
     "text": [
      "(436.8981455091794+150.68897445613348j)\n",
      "(473.7909685820204+160.65902466248863j)\n"
     ]
    }
   ],
   "source": [
    "#inital q parameters at z=0 for x and y (using waist locations determerined above)\n",
    "qx0 = qz(0,xz0,xw0)\n",
    "qy0 = qz(0,yz0,yw0)\n",
    "#qx0 = q0(1.7)\n",
    "#qy0 = q0(1.7)\n",
    "print(qx0)\n",
    "print(qy0)\n",
    "\n",
    "max_dist = 1400 #total propegaction distance in mm\n",
    "Nsteps = 500\n",
    "zlist = linspace(0,max_dist,Nsteps)\n",
    "stepsize = zlist[1] - zlist[0]\n",
    "q = 1j*zeros((2,Nsteps)) #top row is for x and bottom row is y\n",
    "q[:,0] = [qx0,qy0] #set inital parameters\n"
   ]
  },
  {
   "attachments": {},
   "cell_type": "markdown",
   "metadata": {},
   "source": [
    "#### Simulation for using a single lens to collimate the beam"
   ]
  },
  {
   "cell_type": "code",
   "execution_count": 32,
   "metadata": {},
   "outputs": [
    {
     "name": "stdout",
     "output_type": "stream",
     "text": [
      "0.6394466922694921\n",
      "0.6440483330917948\n"
     ]
    },
    {
     "data": {
      "image/png": "[encoded data removed]",
      "text/plain": [
       "<Figure size 640x480 with 1 Axes>"
      ]
     },
     "metadata": {},
     "output_type": "display_data"
    }
   ],
   "source": [
    "max_dist = 2000 #total propegaction distance in mm\n",
    "Nsteps = 2000\n",
    "zlist = linspace(0,max_dist,Nsteps)\n",
    "stepsize = zlist[1] - zlist[0]\n",
    "q = 1j*zeros((2,Nsteps)) #top row is for x and bottom row is y\n",
    "q[:,0] = [qx0,qy0] #set inital parameters\n",
    "\n",
    "#denfine lenses [z,fx,fy]\n",
    "finf=10e6 #effective infinite focal length for cylindiral lenses, using 'inf' causes an error\n",
    "\n",
    "f1=500.\n",
    "p0 =1\n",
    "lens1=[p0,f1,f1]\n",
    "\n",
    "lenses=array([lens1])\n",
    "\n",
    "for i,z in enumerate(zlist[1:]):\n",
    "    for j in range(len(lenses[:,0])): #loop over lenses\n",
    "        if abs(z-lenses[j,0])<stepsize/2: #if less than half step size from lens location, apply to q\n",
    "            q[0,i]=lensf(q[0,i],lenses[j,1])\n",
    "            q[1,i]=lensf(q[1,i],lenses[j,2])\n",
    "            plt.axvline(x=lenses[j,0])\n",
    "    q[0,i+1]=propd(q[0,i],stepsize)\n",
    "    q[1,i+1]=propd(q[1,i],stepsize)\n",
    "    \n",
    "wx=wfromq(q[0,:])\n",
    "wy=wfromq(q[1,:])\n",
    "\n",
    "plot(zlist,wx,'b',label='waist x',)\n",
    "plot(zlist,wy,'r',label='waist y')\n",
    "xlabel('Distance [mm]')\n",
    "legend(loc=2)\n",
    "ylim(0,2)\n",
    "plt.axvline(x=22*25.4,color='k')\n",
    "\n",
    "print(wx[0:500].mean())\n",
    "print(wy[0:500].mean())"
   ]
  },
  {
   "attachments": {},
   "cell_type": "markdown",
   "metadata": {},
   "source": [
    "#### Calculation for using a single lens to get mode matching"
   ]
  },
  {
   "attachments": {},
   "cell_type": "markdown",
   "metadata": {},
   "source": [
    "For a fundamental Gaussian beam the curvature at position Z is  $$\\frac{1}{R(z)} = \\frac{z}{z^2+z^2_R}$$\n",
    "Rayleigh range is $$Z_R = \\frac{\\pi \\omega^2_0 n}{\\lambda}$$ where $\\omega_0$ is the radius at the waist\n",
    "At position z along the beam, the spot size is $$\\omega(z) = \\omega_0 \\sqrt{1+(\\frac{z}{z_R})^2}$$"
   ]
  },
  {
   "attachments": {},
   "cell_type": "markdown",
   "metadata": {},
   "source": [
    "For our new cavity, $R1 = \\infty, R2 = 1000, L = 300$\n",
    "\n",
    "To get mode matching, the new beam waist needs to be at mirror 1 and radius of curvature at mirror 2 needs to be R2.\n",
    "\n",
    "So we take z as the total length of cavity, means $z = 300$, then from eq1 we have "
   ]
  },
  {
   "cell_type": "code",
   "execution_count": 33,
   "metadata": {},
   "outputs": [
    {
     "name": "stdout",
     "output_type": "stream",
     "text": [
      "the Rayleigh range is: 458.257569495584 mm\n"
     ]
    }
   ],
   "source": [
    "z = 300\n",
    "R2 = 1000\n",
    "zR = np.sqrt(z*R2-z**2)\n",
    "print(\"the Rayleigh range is:\",zR,\"mm\")"
   ]
  },
  {
   "attachments": {},
   "cell_type": "markdown",
   "metadata": {},
   "source": [
    "Then from eq2 we can calculate the new beam waist"
   ]
  },
  {
   "cell_type": "code",
   "execution_count": 34,
   "metadata": {},
   "outputs": [
    {
     "name": "stdout",
     "output_type": "stream",
     "text": [
      "the new radius at waist is: 0.352532925271141 mm\n"
     ]
    }
   ],
   "source": [
    "\n",
    "w0_new = np.sqrt(zR * lam/ np.pi)\n",
    "print(\"the new radius at waist is:\", w0_new, \"mm\")"
   ]
  },
  {
   "attachments": {},
   "cell_type": "markdown",
   "metadata": {},
   "source": [
    "Now assume z is the focus length of the spherical lens and input waist is the collimated waist $\\omega = 0.64$, from eq3 we can get calculate z:"
   ]
  },
  {
   "cell_type": "code",
   "execution_count": 35,
   "metadata": {},
   "outputs": [
    {
     "name": "stdout",
     "output_type": "stream",
     "text": [
      "The focus length of the lens is: 694.3468645529605 mm\n"
     ]
    }
   ],
   "source": [
    "w0 = 0.64         # beam waist after collimating\n",
    "z_len = zR*np.sqrt((w0/w0_new)**2-1)\n",
    "print(\"The focus length of the lens is:\", z_len, \"mm\" )"
   ]
  },
  {
   "cell_type": "code",
   "execution_count": null,
   "metadata": {},
   "outputs": [],
   "source": []
  }
 ],
 "metadata": {
  "kernelspec": {
   "display_name": "SPB_test",
   "language": "python",
   "name": "python3"
  },
  "language_info": {
   "codemirror_mode": {
    "name": "ipython",
    "version": 3
   },
   "file_extension": ".py",
   "mimetype": "text/x-python",
   "name": "python",
   "nbconvert_exporter": "python",
   "pygments_lexer": "ipython3",
   "version": "3.10.6"
  },
  "orig_nbformat": 4,
  "vscode": {
   "interpreter": {
    "hash": "1438687277aa5ee41fdfb5c134da5e17e13ed11d32f14c4c15da92ecc2b76823"
   }
  }
 },
 "nbformat": 4,
 "nbformat_minor": 2
}
