{
 "cells": [
  {
   "cell_type": "code",
   "execution_count": 1,
   "metadata": {},
   "outputs": [],
   "source": [
    "from __future__ import division\n",
    "from scipy.optimize import curve_fit\n",
    "from pylab import *\n",
    "%matplotlib inline"
   ]
  },
  {
   "attachments": {},
   "cell_type": "markdown",
   "metadata": {},
   "source": [
    "For a fundamental Gaussian beam the curvature at position Z is  $$\\frac{1}{R(z)} = \\frac{z}{z^2+z^2_R}$$\n",
    "Rayleigh range is $$Z_R = \\frac{\\pi \\omega^2_0 n}{\\lambda}$$ where $\\omega_0$ is the radius at the waist\n",
    "At position z along the beam, the spot size is $$\\omega(z) = \\omega_0 \\sqrt{1+(\\frac{z}{z_R})^2}$$"
   ]
  },
  {
   "cell_type": "markdown",
   "metadata": {},
   "source": []
  },
  {
   "cell_type": "markdown",
   "metadata": {},
   "source": [
    "#### Constant Parameters"
   ]
  },
  {
   "attachments": {},
   "cell_type": "markdown",
   "metadata": {},
   "source": [
    "All dimensions are scaled to millimeters (keep in mind when specifying waists and focal length)\n",
    "\n",
    "Make sure you put in your wavelength here!)"
   ]
  },
  {
   "cell_type": "code",
   "execution_count": 2,
   "metadata": {},
   "outputs": [],
   "source": [
    "mm=1e-3\n",
    "lam=852e-9/mm #wavelength"
   ]
  },
  {
   "attachments": {},
   "cell_type": "markdown",
   "metadata": {},
   "source": [
    "#### Basics functions"
   ]
  },
  {
   "attachments": {},
   "cell_type": "markdown",
   "metadata": {},
   "source": [
    "Function for propegation of Gaussian beam by ABCD matrix method.  See Yariv Quanutum Electronics, or Siegmann Lasers for textbook treatment"
   ]
  },
  {
   "cell_type": "code",
   "execution_count": 3,
   "metadata": {},
   "outputs": [],
   "source": [
    "def zr(waist):\n",
    "    #rayleigh range\n",
    "    return pi*waist**2/lam\n",
    "def waistz0(lam,z0):\n",
    "    return np.sqrt(lam*z0/np.pi)\n",
    "def waistz(z,z0,w0):\n",
    "    #beam waist as function of z\n",
    "    return w0*sqrt(1+((z-z0)/zr(w0))**2)\n",
    "def radiusz(z,z0,w0):\n",
    "    #beam radius of curvature as function of z\n",
    "    return (z-z0)*(1+((z-z0)/zr(w0))**2)\n",
    "def q0(w0):\n",
    "    #q parameter at waist\n",
    "    return 1j*pi*w0**2/lam\n",
    "def wfromq(q):\n",
    "    #convert q back to waist values\n",
    "    return sqrt(-1*lam/(pi*imag(1/q)))\n",
    "def propd(q,d):\n",
    "    #propegaction of q by distance d\n",
    "    return q+d\n",
    "def lensf(q,f):\n",
    "    #action of lens of focal lens f on q\n",
    "    return q/(-q/f+1)\n",
    "def qz(z,z0,w0):\n",
    "    #q parameter at z given w0 at z0\n",
    "    return propd(q0(w0),z-z0)"
   ]
  },
  {
   "attachments": {},
   "cell_type": "markdown",
   "metadata": {},
   "source": [
    "#### Find waist from two point measurement"
   ]
  },
  {
   "attachments": {},
   "cell_type": "markdown",
   "metadata": {},
   "source": [
    "Assume we measure the waist $w_1$ at $z=z_1=0$ and $w_2$ at $z=z_2$, find the location and value of the waist, $z_0,w_0$ (for both x and y)"
   ]
  },
  {
   "cell_type": "code",
   "execution_count": 4,
   "metadata": {},
   "outputs": [],
   "source": [
    "def findwaist(w1,w2,z2):\n",
    "    zdata=array([0,z2])\n",
    "    wdata=array([w1,w2])\n",
    "    #curvefit to waist function using p0=[z0,w0] as initial parameters\n",
    "    if w1>w2: #if focusing, using second waist as initial parameters\n",
    "        [z0,w0]=[2*z2,w2/2.]\n",
    "    else: #if diverging, use first waist\n",
    "        [z0,w0]=[-z2,w1/2.]\n",
    "    popt, pcov = curve_fit(waistz,zdata,wdata,p0=[z0,w0])\n",
    "    return popt #return fit paramers [z0,w0]"
   ]
  },
  {
   "cell_type": "code",
   "execution_count": 97,
   "metadata": {},
   "outputs": [
    {
     "name": "stdout",
     "output_type": "stream",
     "text": [
      "x: z0=-1260.31 mm and w0=0.327 mm\n",
      "y: z0=-1260.30 mm and w0=0.318 mm\n"
     ]
    },
    {
     "data": {
      "text/plain": [
       "(-1000.0, 5000.0)"
      ]
     },
     "execution_count": 97,
     "metadata": {},
     "output_type": "execute_result"
    },
    {
     "data": {
      "image/png": "[encoded data removed]",
      "text/plain": [
       "<Figure size 640x480 with 1 Axes>"
      ]
     },
     "metadata": {},
     "output_type": "display_data"
    }
   ],
   "source": [
    "#measured values: (assumes z1=0)\n",
    "\n",
    "#x\n",
    "[xw1,xw2,xz2]=[1.095,1.415,16*25] #measured values\n",
    "[xz0,xw0] = findwaist(xw1,xw2,xz2)\n",
    "print(\"x: z0=%0.2f mm and w0=%0.3f mm\" %(xz0,xw0))\n",
    "#y\n",
    "[yw1,yw2,yz2]=[1.120,1.450,16*25]  #measured values\n",
    "[yz0,yw0] = findwaist(yw1,yw2,yz2)\n",
    "print(\"y: z0=%0.2f mm and w0=%0.3f mm\" %(yz0,yw0))\n",
    "#[.504,.598,475]\n",
    "\n",
    "\n",
    "max_dist = 6000 #total propegaction distance in mm\n",
    "Nsteps = 5000\n",
    "zlist = linspace(-max_dist,max_dist,Nsteps)\n",
    "plot(0,xw1,'kx',markersize=10)\n",
    "plot(xz2,xw2,'kx',markersize=10)\n",
    "plot(xz0,xw0,'ko')\n",
    "\n",
    "plot(zlist,waistz(zlist,xz0,xw0),'k')\n",
    "plot(0,yw1,'rx',markersize=10)\n",
    "plot(yz2,yw2,'rx',markersize=10)\n",
    "plot(yz0,yw0,'ro')\n",
    "plot(zlist,waistz(zlist,yz0,yw0),'r')\n",
    "plt.axvline(x=22*25.4,color='k')\n",
    "plt.xlim(-1000,5000)\n",
    "\n",
    "# xz0 = 0\n",
    "# xw0 = 0.65\n",
    "# yz0 = 0\n",
    "# yw0 = 0.65"
   ]
  },
  {
   "attachments": {},
   "cell_type": "markdown",
   "metadata": {},
   "source": [
    "#### Set up beam propegation:"
   ]
  },
  {
   "cell_type": "code",
   "execution_count": 98,
   "metadata": {},
   "outputs": [
    {
     "name": "stdout",
     "output_type": "stream",
     "text": [
      "(1260.305897054901+394.45716425306233j)\n",
      "(1260.2982672399248+373.5719124669994j)\n"
     ]
    }
   ],
   "source": [
    "#inital q parameters at z=0 for x and y (using waist locations determerined above)\n",
    "qx0 = qz(0,xz0,xw0)\n",
    "qy0 = qz(0,yz0,yw0)\n",
    "# qx0 = q0(0.8)\n",
    "# qy0 = q0(0.8)\n",
    "print(qx0)\n",
    "print(qy0)\n",
    "\n",
    "max_dist = 1400 #total propegaction distance in mm\n",
    "Nsteps = 500\n",
    "zlist = linspace(0,max_dist,Nsteps)\n",
    "stepsize = zlist[1] - zlist[0]\n",
    "q = 1j*zeros((2,Nsteps)) #top row is for x and bottom row is y\n",
    "q[:,0] = [qx0,qy0] #set inital parameters\n"
   ]
  },
  {
   "attachments": {},
   "cell_type": "markdown",
   "metadata": {},
   "source": [
    "#### Simulation for using a single lens to collimate the beam"
   ]
  },
  {
   "cell_type": "code",
   "execution_count": 115,
   "metadata": {},
   "outputs": [
    {
     "name": "stdout",
     "output_type": "stream",
     "text": [
      "0.6227216638708083\n",
      "0.6310672322731289\n"
     ]
    },
    {
     "data": {
      "image/png": "[encoded data removed]",
      "text/plain": [
       "<Figure size 640x480 with 1 Axes>"
      ]
     },
     "metadata": {},
     "output_type": "display_data"
    }
   ],
   "source": [
    "max_dist = 2000 #total propegaction distance in mm\n",
    "Nsteps = 2000\n",
    "zlist = linspace(0,max_dist,Nsteps)\n",
    "stepsize = zlist[1] - zlist[0]\n",
    "q = 1j*zeros((2,Nsteps)) #top row is for x and bottom row is y\n",
    "q[:,0] = [qx0,qy0] #set inital parameters\n",
    "\n",
    "#denfine lenses [z,fx,fy]\n",
    "finf=10e6 #effective infinite focal length for cylindiral lenses, using 'inf' causes an error\n",
    "\n",
    "f1=100.\n",
    "f2= 40.\n",
    "f3 = 300\n",
    "p0 = 50\n",
    "p1 = 195\n",
    "p2= 500\n",
    "lens1=[p0,f1,f1]\n",
    "lens2=[p1,f2,f2]\n",
    "lens3=[p2,f3,f3]\n",
    "\n",
    "lenses=array([lens1,lens2])\n",
    "lenses=array([lens1,lens2,lens3])\n",
    "#lenses=array([lens1])\n",
    "\n",
    "\n",
    "for i,z in enumerate(zlist[1:]):\n",
    "    for j in range(len(lenses[:,0])): #loop over lenses\n",
    "        if abs(z-lenses[j,0])<stepsize/2: #if less than half step size from lens location, apply to q\n",
    "            q[0,i]=lensf(q[0,i],lenses[j,1])\n",
    "            q[1,i]=lensf(q[1,i],lenses[j,2])\n",
    "            plt.axvline(x=lenses[j,0])\n",
    "    q[0,i+1]=propd(q[0,i],stepsize)\n",
    "    q[1,i+1]=propd(q[1,i],stepsize)\n",
    "    \n",
    "wx=wfromq(q[0,:])\n",
    "wy=wfromq(q[1,:])\n",
    "\n",
    "plot(zlist,wx,'b',label='waist x',)\n",
    "plot(zlist,wy,'r',label='waist y')\n",
    "xlabel('Distance [mm]')\n",
    "legend(loc=2)\n",
    "ylim(0,2)\n",
    "\n",
    "\n",
    "print(wx[0:2000].mean())\n",
    "print(wy[0:2000].mean())"
   ]
  },
  {
   "attachments": {},
   "cell_type": "markdown",
   "metadata": {},
   "source": [
    "#### Calculation for using a single lens to get mode matching"
   ]
  },
  {
   "attachments": {},
   "cell_type": "markdown",
   "metadata": {},
   "source": [
    "For a fundamental Gaussian beam the curvature at position Z is  $$\\frac{1}{R(z)} = \\frac{z}{z^2+z^2_R}$$\n",
    "Rayleigh range is $$Z_R = \\frac{\\pi \\omega^2_0 n}{\\lambda}$$ where $\\omega_0$ is the radius at the waist\n",
    "At position z along the beam, the spot size is $$\\omega(z) = \\omega_0 \\sqrt{1+(\\frac{z}{z_R})^2}$$"
   ]
  },
  {
   "attachments": {},
   "cell_type": "markdown",
   "metadata": {},
   "source": [
    "For our new cavity, $R1 = 1000, R2 = 1000, L = 268$\n",
    "\n",
    "To get mode matching, the new beam waist needs to be at mirror 1 and radius of curvature at mirror 2 needs to be R2.\n",
    "\n",
    "So we take z as the half length of cavity, means $z = 134$, then from eq1 we have "
   ]
  },
  {
   "cell_type": "code",
   "execution_count": 13,
   "metadata": {},
   "outputs": [
    {
     "name": "stdout",
     "output_type": "stream",
     "text": [
      "the Rayleigh range is: 340.6523154185217 mm\n"
     ]
    }
   ],
   "source": [
    "z = 134\n",
    "R2 = 1000\n",
    "zR = np.sqrt(z*R2-z**2)\n",
    "print(\"the Rayleigh range is:\",zR,\"mm\")"
   ]
  },
  {
   "attachments": {},
   "cell_type": "markdown",
   "metadata": {},
   "source": [
    "Then from eq2 we can calculate the new beam waist"
   ]
  },
  {
   "cell_type": "code",
   "execution_count": 14,
   "metadata": {},
   "outputs": [
    {
     "name": "stdout",
     "output_type": "stream",
     "text": [
      "the waist at flat mirror is: 0.30394887034869117 mm\n",
      "the waist at curve mirror is: 0.32661910740740363 mm\n"
     ]
    }
   ],
   "source": [
    "\n",
    "w0_new = np.sqrt(zR * lam/ np.pi)\n",
    "wm = w0_new * np.sqrt(1+(z/zR)**2)\n",
    "print(\"the waist at flat mirror is:\", w0_new, \"mm\")\n",
    "print(\"the waist at curve mirror is:\", wm, \"mm\")"
   ]
  },
  {
   "attachments": {},
   "cell_type": "markdown",
   "metadata": {},
   "source": [
    "Now assume z is the focus length of the spherical lens and input waist is the collimated waist $\\omega = 0.64$, from eq3 we can get calculate z:"
   ]
  },
  {
   "cell_type": "code",
   "execution_count": 20,
   "metadata": {},
   "outputs": [
    {
     "name": "stdout",
     "output_type": "stream",
     "text": [
      "The focus length of the lens is: 540.4261779743823 mm\n"
     ]
    }
   ],
   "source": [
    "#w0 = np.linspace(0.2,1,1000)        # beam waist after collimating\n",
    "w0 = 0.57\n",
    "f_len = zR*np.sqrt((w0/w0_new)**2-1)\n",
    "#plot(w0,f_len,'-')\n",
    "print(\"The focus length of the lens is:\", f_len, \"mm\" )"
   ]
  },
  {
   "cell_type": "code",
   "execution_count": 11,
   "metadata": {},
   "outputs": [
    {
     "name": "stdout",
     "output_type": "stream",
     "text": [
      "output voltage is: 2.351132443377831 V\n"
     ]
    }
   ],
   "source": [
    "R = 0.55\n",
    "G10 = 4.75e3\n",
    "F = 1e6/(1e6+50)\n",
    "P = 0.9e-3 \n",
    "V = R * G10 * F * P \n",
    "print(\"output voltage is:\", V,\"V\")"
   ]
  },
  {
   "cell_type": "code",
   "execution_count": 12,
   "metadata": {},
   "outputs": [
    {
     "data": {
      "text/plain": [
       "1.3333333333334803"
      ]
     },
     "execution_count": 12,
     "metadata": {},
     "output_type": "execute_result"
    }
   ],
   "source": [
    "0.4e-3/(1-0.9997) "
   ]
  },
  {
   "cell_type": "code",
   "execution_count": null,
   "metadata": {},
   "outputs": [],
   "source": []
  }
 ],
 "metadata": {
  "kernelspec": {
   "display_name": "SPB_test",
   "language": "python",
   "name": "python3"
  },
  "language_info": {
   "codemirror_mode": {
    "name": "ipython",
    "version": 3
   },
   "file_extension": ".py",
   "mimetype": "text/x-python",
   "name": "python",
   "nbconvert_exporter": "python",
   "pygments_lexer": "ipython3",
   "version": "3.10.6"
  },
  "orig_nbformat": 4,
  "vscode": {
   "interpreter": {
    "hash": "1438687277aa5ee41fdfb5c134da5e17e13ed11d32f14c4c15da92ecc2b76823"
   }
  }
 },
 "nbformat": 4,
 "nbformat_minor": 2
}
