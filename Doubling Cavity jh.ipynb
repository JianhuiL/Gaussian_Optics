{
 "cells": [
  {
   "cell_type": "code",
   "execution_count": 16,
   "id": "c2a50ab0",
   "metadata": {},
   "outputs": [],
   "source": [
    "import numpy as np\n",
    "import matplotlib.pyplot as plt"
   ]
  },
  {
   "cell_type": "code",
   "execution_count": 79,
   "id": "ccc4e588",
   "metadata": {},
   "outputs": [],
   "source": [
    "# def ABCD1(l1,l2,l3,r):\n",
    "#     m1 = np.array([[1,l1/2],[0,1]])\n",
    "#     m2 = np.array([[1,0],[-2/r/np.cos(0*np.pi/180),1]])\n",
    "#     m3 = np.array([[1,l3+2*l2],[0,1]])\n",
    "#     m4 = np.array([[1,0],[-2/r/np.cos(0*np.pi/180),1]])\n",
    "#     m5 = np.array([[1,l1/2],[0,1]])\n",
    "#     mul = np.matmul(m1,m2)\n",
    "#     mul = np.matmul(mul,m3)\n",
    "#     mul = np.matmul(mul,m4)\n",
    "#     mul= np.matmul(mul,m5)\n",
    "#     return mul\n",
    "    "
   ]
  },
  {
   "cell_type": "code",
   "execution_count": 79,
   "id": "fc630cbb",
   "metadata": {},
   "outputs": [],
   "source": [
    "def ABCD1(l1,l2,l3,r):\n",
    "    m1 = np.array([[1,l1/2],[0,1]])\n",
    "    m2 = np.array([[1,0],[-2/r/np.cos(0*np.pi/180),1]])\n",
    "    m3 = np.array([[1,l3+2*l2],[0,1]])\n",
    "    m4 = np.array([[1,0],[-2/r/np.cos(0*np.pi/180),1]])\n",
    "    m5 = np.array([[1,l1/2],[0,1]])\n",
    "    mul = np.matmul(m4,m5)\n",
    "    mul = np.matmul(m3,mul)\n",
    "    mul = np.matmul(m2,mul)\n",
    "    mul= np.matmul(m1,mul)\n",
    "    return mul\n",
    "    "
   ]
  },
  {
   "cell_type": "code",
   "execution_count": 80,
   "id": "a390504e",
   "metadata": {},
   "outputs": [],
   "source": [
    "# def ABCD2(l1,l2,l3,r):\n",
    "#     m1 = np.array([[1,l2+l3/2],[0,1]])\n",
    "#     m2 = np.array([[1,0],[-2/r/np.cos(0*np.pi/180),1]])\n",
    "#     m3 = np.array([[1,l1],[0,1]])\n",
    "#     m4 = np.array([[1,0],[-2/r/np.cos(0*np.pi/180),1]])\n",
    "#     m5 = np.array([[1,l2+l3/2],[0,1]])\n",
    "#     mul = np.matmul(m1,m2)\n",
    "#     mul = np.matmul(mul,m3)\n",
    "#     mul = np.matmul(mul,m4)\n",
    "#     mul= np.matmul(mul,m5)\n",
    "#     return mul   "
   ]
  },
  {
   "cell_type": "code",
   "execution_count": 80,
   "id": "771187b3",
   "metadata": {},
   "outputs": [],
   "source": [
    "def ABCD2(l1,l2,l3,r):\n",
    "    m1 = np.array([[1,l2+l3/2],[0,1]])\n",
    "    m2 = np.array([[1,0],[-2/r/np.cos(0*np.pi/180),1]])\n",
    "    m3 = np.array([[1,l1],[0,1]])\n",
    "    m4 = np.array([[1,0],[-2/r/np.cos(0*np.pi/180),1]])\n",
    "    m5 = np.array([[1,l2+l3/2],[0,1]])\n",
    "    mul = np.matmul(m4,m5)\n",
    "    mul = np.matmul(m3,mul)\n",
    "    mul = np.matmul(m2,mul)\n",
    "    mul= np.matmul(m1,mul)\n",
    "    return mul   "
   ]
  },
  {
   "cell_type": "code",
   "execution_count": 81,
   "id": "2d5aa972",
   "metadata": {},
   "outputs": [],
   "source": [
    "def d(a,b,wl):\n",
    "    return np.sqrt(wl*b/np.pi/np.sqrt(1-a**2))"
   ]
  },
  {
   "cell_type": "code",
   "execution_count": 82,
   "id": "2f2aacd5",
   "metadata": {},
   "outputs": [],
   "source": [
    "def gauss_prop(abcd,q_i):\n",
    "    q_f = (abcd[0,0]*q_i + abcd[0,1])/(abcd[1,0]*q_i + abcd[1,1])\n",
    "    return q_f\n",
    "\n",
    "def w0(q):\n",
    "    return np.sqrt(-1j*wl*q/np.pi)\n",
    "\n",
    "def w2(inv_q):\n",
    "    return np.sqrt(-wl/np.pi/n_c/np.imag(inv_q))"
   ]
  },
  {
   "cell_type": "code",
   "execution_count": 21,
   "id": "f3b4eaf3",
   "metadata": {},
   "outputs": [],
   "source": [
    "l1 = 110*1e-3\n",
    "l2 = 135*1e-3\n",
    "l3 = 138*1e-3\n",
    "r = 100*1e-3\n",
    "wl = 1.087e-3*1e-3\n",
    "l_c = 20*1e-3\n",
    "n_c = 1.747\n",
    "w_i = 280e-3/2*1e-3\n",
    "\n",
    "m1 = np.array([[1,l3/2],[0,1]])\n",
    "m2 = np.array([[1,l2],[0,1]])\n",
    "m3 = np.array([[1,0],[-2/r/np.cos(23*np.pi/180),1]])\n",
    "m4 = np.array([[1,l1/2-l_c/2],[0,1]])\n",
    "m5 = np.array([[1,0],[0,1/n_c]])\n",
    "m6 = np.array([[1,l_c/2/n_c],[0,1]])\n",
    "\n",
    "abcd = np.matmul(m1,m2)\n",
    "abcd = np.matmul(abcd,m3)\n",
    "abcd = np.matmul(abcd,m4)\n",
    "abcd = np.matmul(abcd,m5)\n",
    "abcd = np.matmul(abcd,m6)"
   ]
  },
  {
   "cell_type": "code",
   "execution_count": 22,
   "id": "b98a9b4d",
   "metadata": {},
   "outputs": [
    {
     "data": {
      "text/plain": [
       "array([[-3.43235034e+00,  8.71249646e-03],\n",
       "       [-2.17272075e+01, -1.11617868e-01]])"
      ]
     },
     "execution_count": 22,
     "metadata": {},
     "output_type": "execute_result"
    }
   ],
   "source": [
    "abcd"
   ]
  },
  {
   "cell_type": "code",
   "execution_count": 38,
   "id": "cfd4b03f",
   "metadata": {},
   "outputs": [],
   "source": [
    "l1 = 110*1e-3\n",
    "l2 = 135*1e-3\n",
    "l3 = 138*1e-3\n",
    "r = 100*1e-3\n",
    "wl = 1.087e-3*1e-3\n",
    "l_c = 20*1e-3\n",
    "n_c = 1.747\n",
    "w_i = 280e-3/2*1e-3\n",
    "\n",
    "m1 = np.mat([[1,l3/2],[0,1]])\n",
    "m2 = np.mat([[1,l2],[0,1]])\n",
    "m3 = np.mat([[1,0],[-2/r/np.cos(23*np.pi/180),1]])\n",
    "m4 = np.mat([[1,l1/2-l_c/2],[0,1]])\n",
    "m5 = np.mat([[1,0],[0,1/n_c]])\n",
    "m6 = np.mat([[1,l_c/2/n_c],[0,1]])\n",
    "\n",
    "# abcd = m1*m2*m3*m4*m5*m6\n",
    "abcd = m6*m5*m4*m3*m2*m1"
   ]
  },
  {
   "cell_type": "code",
   "execution_count": 39,
   "id": "9a481ab0",
   "metadata": {},
   "outputs": [
    {
     "data": {
      "text/plain": [
       "matrix([[ -0.04891419,   0.03829803],\n",
       "        [-12.43686751,  -1.96471113]])"
      ]
     },
     "execution_count": 39,
     "metadata": {},
     "output_type": "execute_result"
    }
   ],
   "source": [
    "abcd"
   ]
  },
  {
   "cell_type": "code",
   "execution_count": 40,
   "id": "6c925ecd",
   "metadata": {},
   "outputs": [],
   "source": [
    "q_i = 1j*wl/np.pi/w_i**2"
   ]
  },
  {
   "cell_type": "code",
   "execution_count": 41,
   "id": "5dafe883",
   "metadata": {},
   "outputs": [],
   "source": [
    "q_f = gauss_prop(abcd,q_i)"
   ]
  },
  {
   "cell_type": "code",
   "execution_count": 46,
   "id": "a2554d36",
   "metadata": {},
   "outputs": [],
   "source": [
    "w_scan = np.linspace(0.3e-3,0.8e-3,1000)/2\n",
    "q_list = []\n",
    "R = []\n",
    "for w_i in w_scan:\n",
    "    q_i = 1j*np.pi*w_i**2/wl\n",
    "    q_f = gauss_prop(abcd,q_i)\n",
    "    inv_q = 1/q_f\n",
    "    q_list.append(w2(inv_q)/1e-3*2)\n",
    "    R.append(np.real(inv_q))\n",
    "#     R.append(np.real(q_f))"
   ]
  },
  {
   "cell_type": "code",
   "execution_count": 47,
   "id": "53de715d",
   "metadata": {},
   "outputs": [
    {
     "data": {
      "text/plain": [
       "[<matplotlib.lines.Line2D at 0x1a01122dc10>]"
      ]
     },
     "execution_count": 47,
     "metadata": {},
     "output_type": "execute_result"
    },
    {
     "data": {
      "image/png": "[encoded data removed]",
      "text/plain": [
       "<Figure size 432x288 with 1 Axes>"
      ]
     },
     "metadata": {
      "needs_background": "light"
     },
     "output_type": "display_data"
    }
   ],
   "source": [
    "plt.plot(w_scan*2/1e-3,q_list)\n"
   ]
  },
  {
   "cell_type": "code",
   "execution_count": 49,
   "id": "4cf631a4",
   "metadata": {},
   "outputs": [
    {
     "data": {
      "text/plain": [
       "[<matplotlib.lines.Line2D at 0x1a0113091f0>]"
      ]
     },
     "execution_count": 49,
     "metadata": {},
     "output_type": "execute_result"
    },
    {
     "data": {
      "image/png": "[encoded data removed]",
      "text/plain": [
       "<Figure size 432x288 with 1 Axes>"
      ]
     },
     "metadata": {
      "needs_background": "light"
     },
     "output_type": "display_data"
    }
   ],
   "source": [
    "plt.plot(w_scan*2/1e-3,R)"
   ]
  },
  {
   "cell_type": "code",
   "execution_count": 45,
   "id": "d8dd96da",
   "metadata": {},
   "outputs": [
    {
     "data": {
      "text/plain": [
       "(5.0059475866003127e-05-5.131223074900043e-06j)"
      ]
     },
     "execution_count": 45,
     "metadata": {},
     "output_type": "execute_result"
    }
   ],
   "source": [
    "w0(q_f)"
   ]
  },
  {
   "cell_type": "code",
   "execution_count": 91,
   "id": "421bcd5e",
   "metadata": {},
   "outputs": [],
   "source": [
    "# test params\n",
    "l1 = 31e-3\n",
    "l2 = 47e-3\n",
    "l3 = 56e-3\n",
    "r = 30e-3\n",
    "wl = 5.47e-6"
   ]
  },
  {
   "cell_type": "code",
   "execution_count": 92,
   "id": "13583052",
   "metadata": {},
   "outputs": [],
   "source": [
    "abcd1 = ABCD1(l1,l2,l3,r)\n",
    "abcd2 = ABCD2(l1,l2,l3,r)"
   ]
  },
  {
   "cell_type": "code",
   "execution_count": 99,
   "id": "eb7a3b8e",
   "metadata": {},
   "outputs": [
    {
     "name": "stderr",
     "output_type": "stream",
     "text": [
      "C:\\Users\\Jianhui\\AppData\\Local\\Temp\\ipykernel_27692\\754505264.py:2: RuntimeWarning: invalid value encountered in sqrt\n",
      "  return np.sqrt(wl*b/np.pi/np.sqrt(1-a**2))\n"
     ]
    }
   ],
   "source": [
    "d1 = d(abcd1[0,0],abcd1[0,1],wl)\n",
    "d2 = d(abcd2[0,0],abcd2[0,1],wl)"
   ]
  },
  {
   "cell_type": "code",
   "execution_count": 100,
   "id": "932226bd",
   "metadata": {},
   "outputs": [
    {
     "data": {
      "text/plain": [
       "nan"
      ]
     },
     "execution_count": 100,
     "metadata": {},
     "output_type": "execute_result"
    }
   ],
   "source": [
    "d1"
   ]
  },
  {
   "cell_type": "code",
   "execution_count": 101,
   "id": "2cf91728",
   "metadata": {},
   "outputs": [
    {
     "data": {
      "text/plain": [
       "nan"
      ]
     },
     "execution_count": 101,
     "metadata": {},
     "output_type": "execute_result"
    }
   ],
   "source": [
    "d2"
   ]
  },
  {
   "cell_type": "code",
   "execution_count": 102,
   "id": "1294badb",
   "metadata": {},
   "outputs": [
    {
     "name": "stdout",
     "output_type": "stream",
     "text": [
      "nan , nan μm\n"
     ]
    }
   ],
   "source": [
    "print(d1*1000,',',d2*1000, 'μm')\n"
   ]
  },
  {
   "cell_type": "code",
   "execution_count": 97,
   "id": "aa5ef169",
   "metadata": {},
   "outputs": [],
   "source": [
    "# test params\n",
    "l1 = 110e-3\n",
    "l2 = 135e-3\n",
    "l3 = 138e-3\n",
    "r = 100e-3\n",
    "wl = 1.087e-6"
   ]
  },
  {
   "cell_type": "code",
   "execution_count": 88,
   "id": "a1368b1c",
   "metadata": {},
   "outputs": [],
   "source": [
    "abcd1 = ABCD1(l1,l2,l3,r)\n",
    "abcd2 = ABCD2(l1,l2,l3,r)"
   ]
  },
  {
   "cell_type": "code",
   "execution_count": 89,
   "id": "e189ea3e",
   "metadata": {},
   "outputs": [
    {
     "name": "stderr",
     "output_type": "stream",
     "text": [
      "C:\\Users\\Jianhui\\AppData\\Local\\Temp\\ipykernel_27692\\754505264.py:2: RuntimeWarning: invalid value encountered in sqrt\n",
      "  return np.sqrt(wl*b/np.pi/np.sqrt(1-a**2))\n"
     ]
    }
   ],
   "source": [
    "d1 = d(abcd1[0,0],abcd1[0,1],wl)\n",
    "d2 = d(abcd2[0,0],abcd2[0,1],wl)"
   ]
  },
  {
   "cell_type": "code",
   "execution_count": 90,
   "id": "f00e96c2",
   "metadata": {},
   "outputs": [
    {
     "name": "stdout",
     "output_type": "stream",
     "text": [
      "nan , nan μm\n"
     ]
    }
   ],
   "source": [
    "print(d1*1000,',',d2*1000, 'μm')\n"
   ]
  },
  {
   "cell_type": "code",
   "execution_count": 112,
   "id": "e8773638",
   "metadata": {},
   "outputs": [
    {
     "data": {
      "text/plain": [
       "0.28261098621882896"
      ]
     },
     "execution_count": 112,
     "metadata": {},
     "output_type": "execute_result"
    }
   ],
   "source": [
    "d2"
   ]
  },
  {
   "cell_type": "code",
   "execution_count": 43,
   "id": "39e0420b",
   "metadata": {},
   "outputs": [],
   "source": [
    "a\n",
    "ma1 = ABCD1(0.115,0.138,0.135,0.100)"
   ]
  },
  {
   "cell_type": "code",
   "execution_count": 73,
   "id": "b187d4a4",
   "metadata": {},
   "outputs": [],
   "source": [
    "ma1 = ABCD1(115,138,135,100)"
   ]
  },
  {
   "cell_type": "code",
   "execution_count": 74,
   "id": "0c1e5069",
   "metadata": {},
   "outputs": [
    {
     "data": {
      "text/plain": [
       "array([[-0.067 , -8.0025],\n",
       "       [ 0.1244, -0.067 ]])"
      ]
     },
     "execution_count": 74,
     "metadata": {},
     "output_type": "execute_result"
    }
   ],
   "source": [
    "ma1"
   ]
  },
  {
   "cell_type": "code",
   "execution_count": 44,
   "id": "7045859b",
   "metadata": {},
   "outputs": [
    {
     "data": {
      "text/plain": [
       "array([[-6.7000e-02, -8.0025e-03],\n",
       "       [ 1.2440e+02, -6.7000e-02]])"
      ]
     },
     "execution_count": 44,
     "metadata": {},
     "output_type": "execute_result"
    }
   ],
   "source": [
    "ma1"
   ]
  },
  {
   "cell_type": "code",
   "execution_count": 45,
   "id": "eadb12b2",
   "metadata": {},
   "outputs": [
    {
     "data": {
      "text/plain": [
       "-0.0080025"
      ]
     },
     "execution_count": 45,
     "metadata": {},
     "output_type": "execute_result"
    }
   ],
   "source": [
    "ma1[0,1]"
   ]
  },
  {
   "cell_type": "code",
   "execution_count": 46,
   "id": "26a923cd",
   "metadata": {},
   "outputs": [
    {
     "data": {
      "text/plain": [
       "0.0044890000000000225"
      ]
     },
     "execution_count": 46,
     "metadata": {},
     "output_type": "execute_result"
    }
   ],
   "source": [
    "ma1[0,0]**2"
   ]
  },
  {
   "cell_type": "code",
   "execution_count": 77,
   "id": "24bbb64f",
   "metadata": {},
   "outputs": [
    {
     "data": {
      "text/plain": [
       "0.04619886191392761"
      ]
     },
     "execution_count": 77,
     "metadata": {},
     "output_type": "execute_result"
    }
   ],
   "source": [
    "d(ma1[0,0],ma1[0,1],5.26e-3)"
   ]
  },
  {
   "cell_type": "code",
   "execution_count": 76,
   "id": "da35f6f3",
   "metadata": {},
   "outputs": [],
   "source": [
    "ma1 = ABCD1(31,47,56,30)"
   ]
  },
  {
   "cell_type": "code",
   "execution_count": 66,
   "id": "7ff040d0",
   "metadata": {},
   "outputs": [
    {
     "data": {
      "text/plain": [
       "array([[-0.73333333, -0.86666667],\n",
       "       [ 0.53333333, -0.73333333]])"
      ]
     },
     "execution_count": 66,
     "metadata": {},
     "output_type": "execute_result"
    }
   ],
   "source": [
    "ma1"
   ]
  },
  {
   "cell_type": "code",
   "execution_count": 49,
   "id": "80915548",
   "metadata": {},
   "outputs": [],
   "source": [
    "m1 = np.array([[1,100/2],[0,1]])\n",
    "m2 = np.array([[1,110/2],[0,1]])"
   ]
  },
  {
   "cell_type": "code",
   "execution_count": 14,
   "id": "e45448f0",
   "metadata": {},
   "outputs": [
    {
     "data": {
      "text/plain": [
       "array([[  1., 105.],\n",
       "       [  0.,   1.]])"
      ]
     },
     "execution_count": 14,
     "metadata": {},
     "output_type": "execute_result"
    }
   ],
   "source": [
    "np.dot(m1,m2)"
   ]
  },
  {
   "cell_type": "code",
   "execution_count": 9,
   "id": "3e2b3cfe",
   "metadata": {},
   "outputs": [
    {
     "data": {
      "text/plain": [
       "array([[  1., 105.],\n",
       "       [  0.,   1.]])"
      ]
     },
     "execution_count": 9,
     "metadata": {},
     "output_type": "execute_result"
    }
   ],
   "source": [
    "np.matmul(m1,m2)"
   ]
  },
  {
   "cell_type": "code",
   "execution_count": null,
   "id": "8b7e29b4",
   "metadata": {},
   "outputs": [],
   "source": []
  }
 ],
 "metadata": {
  "kernelspec": {
   "display_name": "Python 3 (ipykernel)",
   "language": "python",
   "name": "python3"
  },
  "language_info": {
   "codemirror_mode": {
    "name": "ipython",
    "version": 3
   },
   "file_extension": ".py",
   "mimetype": "text/x-python",
   "name": "python",
   "nbconvert_exporter": "python",
   "pygments_lexer": "ipython3",
   "version": "3.9.12"
  }
 },
 "nbformat": 4,
 "nbformat_minor": 5
}
