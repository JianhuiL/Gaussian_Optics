{
 "cells": [
  {
   "cell_type": "code",
   "execution_count": 1,
   "id": "92f693e1",
   "metadata": {},
   "outputs": [],
   "source": [
    "import numpy as np\n",
    "import matplotlib.pyplot as plt"
   ]
  },
  {
   "cell_type": "code",
   "execution_count": 2,
   "id": "c62bde05",
   "metadata": {},
   "outputs": [],
   "source": [
    "def ABCD1(l1,l2,l3,r):\n",
    "    m1 = np.array([[1,l1/2],[0,1]])\n",
    "    m2 = np.array([[1,0],[-2/r,1]])\n",
    "    m3 = np.array([[1,l3+2*l2],[0,1]])\n",
    "    m4 = np.array([[1,0],[-2/r,1]])\n",
    "    m5 = np.array([[1,l1/2],[0,1]])\n",
    "    mul = np.matmul(m4,m5)\n",
    "    mul = np.matmul(m3,mul)\n",
    "    mul = np.matmul(m2,mul)\n",
    "    mul= np.matmul(m1,mul)\n",
    "    return mul\n",
    "    "
   ]
  },
  {
   "cell_type": "code",
   "execution_count": 3,
   "id": "64eca9c3",
   "metadata": {},
   "outputs": [],
   "source": [
    "def ABCD2(l1,l2,l3,r):\n",
    "    m1 = np.array([[1,l2+l3/2],[0,1]])\n",
    "    m2 = np.array([[1,0],[-2/r,1]])\n",
    "    m3 = np.array([[1,l1],[0,1]])\n",
    "    m4 = np.array([[1,0],[-2/r,1]])\n",
    "    m5 = np.array([[1,l2+l3/2],[0,1]])\n",
    "    mul = np.matmul(m4,m5)\n",
    "    mul = np.matmul(m3,mul)\n",
    "    mul = np.matmul(m2,mul)\n",
    "    mul= np.matmul(m1,mul)\n",
    "    return mul    "
   ]
  },
  {
   "cell_type": "code",
   "execution_count": 4,
   "id": "1efabc72",
   "metadata": {},
   "outputs": [],
   "source": [
    "def d(a,b,wl):\n",
    "    return np.sqrt(wl*np.abs(b)/np.pi/np.sqrt(1-a**2))"
   ]
  },
  {
   "cell_type": "code",
   "execution_count": 5,
   "id": "47eb1d2e",
   "metadata": {},
   "outputs": [],
   "source": [
    "# test params\n",
    "l1 = 31\n",
    "l2 = 47\n",
    "l3 = 56\n",
    "r = 30\n",
    "wl = 5.47e-3"
   ]
  },
  {
   "cell_type": "code",
   "execution_count": 6,
   "id": "3024a86a",
   "metadata": {},
   "outputs": [],
   "source": [
    "abcd1 = ABCD1(l1,l2,l3,r)\n",
    "abcd2 = ABCD2(l1,l2,l3,r)"
   ]
  },
  {
   "cell_type": "code",
   "execution_count": 7,
   "id": "c2b01a8f",
   "metadata": {},
   "outputs": [],
   "source": [
    "d1 = d(abcd1[0,0],abcd1[0,1],wl)\n",
    "d2 = d(abcd2[0,0],abcd2[0,1],wl)"
   ]
  },
  {
   "cell_type": "code",
   "execution_count": 10,
   "id": "45b5cb9d",
   "metadata": {},
   "outputs": [
    {
     "name": "stdout",
     "output_type": "stream",
     "text": [
      "47.11205715096436 , 516.0867286411154 μm\n"
     ]
    }
   ],
   "source": [
    "print(d1*1000,',',d2*1000, 'μm')\n"
   ]
  },
  {
   "cell_type": "code",
   "execution_count": 30,
   "id": "a6d769f8",
   "metadata": {},
   "outputs": [],
   "source": [
    "# test params\n",
    "l1 = 110\n",
    "l2 = 136\n",
    "l3 = 138\n",
    "r = 100\n",
    "wl = 1.087e-3"
   ]
  },
  {
   "cell_type": "code",
   "execution_count": 31,
   "id": "63d44c84",
   "metadata": {},
   "outputs": [],
   "source": [
    "abcd1 = ABCD1(l1,l2,l3,r)\n",
    "abcd2 = ABCD2(l1,l2,l3,r)"
   ]
  },
  {
   "cell_type": "code",
   "execution_count": 32,
   "id": "1e467ddc",
   "metadata": {},
   "outputs": [],
   "source": [
    "d1 = d(abcd1[0,0],abcd1[0,1],wl)\n",
    "d2 = d(abcd2[0,0],abcd2[0,1],wl)"
   ]
  },
  {
   "cell_type": "code",
   "execution_count": 33,
   "id": "06d8f959",
   "metadata": {},
   "outputs": [
    {
     "name": "stdout",
     "output_type": "stream",
     "text": [
      "50.803857253098144 , 282.86390590810333 μm\n"
     ]
    }
   ],
   "source": [
    "print(d1*1000,',',d2*1000, 'μm')\n"
   ]
  },
  {
   "cell_type": "code",
   "execution_count": 34,
   "id": "2806b268",
   "metadata": {},
   "outputs": [],
   "source": [
    "def prop(x): #x is propegation distance\n",
    "    out=np.array([[1,x],[0,1]])\n",
    "    out=np.mat(out)#cast as matrix for easier multiplication\n",
    "    return out"
   ]
  },
  {
   "cell_type": "code",
   "execution_count": 35,
   "id": "696959a0",
   "metadata": {},
   "outputs": [],
   "source": [
    "def horzf(R,alpha): #R is radius of curvature for spherical mirror(R = 2f), and alpha is the folding angle in rad\n",
    "    out=np.array([[1,0],[-2/(R*np.cos(alpha)),1]])\n",
    "    out=np.mat(out) #cast as matrix for easier multiplication\n",
    "    return out"
   ]
  },
  {
   "cell_type": "code",
   "execution_count": 38,
   "id": "e319efe1",
   "metadata": {},
   "outputs": [],
   "source": [
    "def crys_out(nc): #nc is crystal index\n",
    "    out=np.array([[1/nc,0],[0,nc]])\n",
    "    out=np.mat(out)#cast as matrix for easier multiplication\n",
    "    return out"
   ]
  },
  {
   "cell_type": "code",
   "execution_count": 40,
   "id": "c143a10d",
   "metadata": {},
   "outputs": [],
   "source": [
    "test = horzf(100,23*np.pi/180)*prop(110/2-10)*crys_out(1.747)*prop(10/2/1.747)"
   ]
  },
  {
   "cell_type": "code",
   "execution_count": 42,
   "id": "57ea23fd",
   "metadata": {},
   "outputs": [
    {
     "data": {
      "text/plain": [
       "32.05495134516313"
      ]
     },
     "execution_count": 42,
     "metadata": {},
     "output_type": "execute_result"
    }
   ],
   "source": [
    "test[0,0]*56"
   ]
  },
  {
   "cell_type": "code",
   "execution_count": 21,
   "id": "5433c118",
   "metadata": {},
   "outputs": [
    {
     "data": {
      "text/plain": [
       "0.28261098621882896"
      ]
     },
     "execution_count": 21,
     "metadata": {},
     "output_type": "execute_result"
    }
   ],
   "source": [
    "d2"
   ]
  },
  {
   "cell_type": "code",
   "execution_count": 17,
   "id": "0a33c7ed",
   "metadata": {},
   "outputs": [],
   "source": [
    "ma1 = ABCD1(115,138,135,100)"
   ]
  },
  {
   "cell_type": "code",
   "execution_count": 74,
   "id": "95b85713",
   "metadata": {},
   "outputs": [
    {
     "data": {
      "text/plain": [
       "array([[-0.067 , -8.0025],\n",
       "       [ 0.1244, -0.067 ]])"
      ]
     },
     "execution_count": 74,
     "metadata": {},
     "output_type": "execute_result"
    }
   ],
   "source": [
    "ma1"
   ]
  },
  {
   "cell_type": "code",
   "execution_count": 44,
   "id": "17440eac",
   "metadata": {},
   "outputs": [
    {
     "data": {
      "text/plain": [
       "array([[-6.7000e-02, -8.0025e-03],\n",
       "       [ 1.2440e+02, -6.7000e-02]])"
      ]
     },
     "execution_count": 44,
     "metadata": {},
     "output_type": "execute_result"
    }
   ],
   "source": [
    "ma1"
   ]
  },
  {
   "cell_type": "code",
   "execution_count": 45,
   "id": "11503250",
   "metadata": {},
   "outputs": [
    {
     "data": {
      "text/plain": [
       "-0.0080025"
      ]
     },
     "execution_count": 45,
     "metadata": {},
     "output_type": "execute_result"
    }
   ],
   "source": [
    "ma1[0,1]"
   ]
  },
  {
   "cell_type": "code",
   "execution_count": 46,
   "id": "53af547b",
   "metadata": {},
   "outputs": [
    {
     "data": {
      "text/plain": [
       "0.0044890000000000225"
      ]
     },
     "execution_count": 46,
     "metadata": {},
     "output_type": "execute_result"
    }
   ],
   "source": [
    "ma1[0,0]**2"
   ]
  },
  {
   "cell_type": "code",
   "execution_count": 77,
   "id": "6667b2a4",
   "metadata": {},
   "outputs": [
    {
     "data": {
      "text/plain": [
       "0.04619886191392761"
      ]
     },
     "execution_count": 77,
     "metadata": {},
     "output_type": "execute_result"
    }
   ],
   "source": [
    "d(ma1[0,0],ma1[0,1],5.26e-3)"
   ]
  },
  {
   "cell_type": "code",
   "execution_count": 76,
   "id": "2391a702",
   "metadata": {},
   "outputs": [],
   "source": [
    "ma1 = ABCD1(31,47,56,30)"
   ]
  },
  {
   "cell_type": "code",
   "execution_count": 66,
   "id": "e7fc10be",
   "metadata": {},
   "outputs": [
    {
     "data": {
      "text/plain": [
       "array([[-0.73333333, -0.86666667],\n",
       "       [ 0.53333333, -0.73333333]])"
      ]
     },
     "execution_count": 66,
     "metadata": {},
     "output_type": "execute_result"
    }
   ],
   "source": [
    "ma1"
   ]
  },
  {
   "cell_type": "code",
   "execution_count": 49,
   "id": "b8064e44",
   "metadata": {},
   "outputs": [],
   "source": [
    "m1 = np.array([[1,100/2],[0,1]])\n",
    "m2 = np.array([[1,110/2],[0,1]])"
   ]
  },
  {
   "cell_type": "code",
   "execution_count": 14,
   "id": "29a47776",
   "metadata": {},
   "outputs": [
    {
     "data": {
      "text/plain": [
       "array([[  1., 105.],\n",
       "       [  0.,   1.]])"
      ]
     },
     "execution_count": 14,
     "metadata": {},
     "output_type": "execute_result"
    }
   ],
   "source": [
    "np.dot(m1,m2)"
   ]
  },
  {
   "cell_type": "code",
   "execution_count": 9,
   "id": "e3007d28",
   "metadata": {},
   "outputs": [
    {
     "data": {
      "text/plain": [
       "array([[  1., 105.],\n",
       "       [  0.,   1.]])"
      ]
     },
     "execution_count": 9,
     "metadata": {},
     "output_type": "execute_result"
    }
   ],
   "source": [
    "np.matmul(m1,m2)"
   ]
  },
  {
   "cell_type": "code",
   "execution_count": null,
   "id": "f9e5b151",
   "metadata": {},
   "outputs": [],
   "source": []
  }
 ],
 "metadata": {
  "kernelspec": {
   "display_name": "Python 3 (ipykernel)",
   "language": "python",
   "name": "python3"
  },
  "language_info": {
   "codemirror_mode": {
    "name": "ipython",
    "version": 3
   },
   "file_extension": ".py",
   "mimetype": "text/x-python",
   "name": "python",
   "nbconvert_exporter": "python",
   "pygments_lexer": "ipython3",
   "version": "3.9.7"
  }
 },
 "nbformat": 4,
 "nbformat_minor": 5
}
