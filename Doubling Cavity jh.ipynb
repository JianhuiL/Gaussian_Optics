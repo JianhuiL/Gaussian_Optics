{
 "cells": [
  {
   "cell_type": "code",
   "execution_count": 1,
   "id": "92f693e1",
   "metadata": {},
   "outputs": [],
   "source": [
    "import numpy as np\n",
    "import matplotlib.pyplot as plt"
   ]
  },
  {
   "cell_type": "code",
   "execution_count": 17,
   "id": "c62bde05",
   "metadata": {},
   "outputs": [],
   "source": [
    "def ABCD1(l1,l2,l3,r):\n",
    "    m1 = np.array([[1,l1/2],[0,1]])\n",
    "    m2 = np.array([[1,0],[-2/r,1]])\n",
    "    m3 = np.array([[1,l3+2*l2],[0,1]])\n",
    "    m4 = np.array([[1,0],[-2/r,1]])\n",
    "    m5 = np.array([[1,l1/2],[0,1]])\n",
    "    mul = np.matmul(m4,m5)\n",
    "    mul = np.matmul(m3,mul)\n",
    "    mul = np.matmul(m2,mul)\n",
    "    mul= np.matmul(m1,mul)\n",
    "    return mul\n",
    "    "
   ]
  },
  {
   "cell_type": "code",
   "execution_count": 78,
   "id": "64eca9c3",
   "metadata": {},
   "outputs": [],
   "source": [
    "def ABCD2(l1,l2,l3,r):\n",
    "    m1 = np.array([[1,l2+l3/2],[0,1]])\n",
    "    m2 = np.array([[1,0],[-2/r,1]])\n",
    "    m3 = np.array([[1,l1],[0,1]])\n",
    "    m4 = np.array([[1,0],[-2/r,1]])\n",
    "    m5 = np.array([[1,l2+l3/2],[0,1]])\n",
    "    mul = np.matmul(m4,m5)\n",
    "    mul = np.matmul(m3,mul)\n",
    "    mul = np.matmul(m2,mul)\n",
    "    mul= np.matmul(m1,mul)\n",
    "    return mul    "
   ]
  },
  {
   "cell_type": "code",
   "execution_count": 50,
   "id": "1efabc72",
   "metadata": {},
   "outputs": [],
   "source": [
    "def d(a,b,wl):\n",
    "    return np.sqrt(wl*np.abs(b)/np.pi/np.sqrt(1-a**2))"
   ]
  },
  {
   "cell_type": "code",
   "execution_count": 79,
   "id": "47eb1d2e",
   "metadata": {},
   "outputs": [],
   "source": [
    "# test params\n",
    "l1 = 31\n",
    "l2 = 47\n",
    "l3 = 56\n",
    "r = 30\n",
    "wl = 5.47e-3"
   ]
  },
  {
   "cell_type": "code",
   "execution_count": 80,
   "id": "3024a86a",
   "metadata": {},
   "outputs": [],
   "source": [
    "abcd1 = ABCD1(l1,l2,l3,r)\n",
    "abcd2 = ABCD2(l1,l2,l3,r)"
   ]
  },
  {
   "cell_type": "code",
   "execution_count": 81,
   "id": "c2b01a8f",
   "metadata": {},
   "outputs": [],
   "source": [
    "d1 = d(abcd1[0,0],abcd1[0,1],wl)\n",
    "d2 = d(abcd2[0,0],abcd2[0,1],wl)"
   ]
  },
  {
   "cell_type": "code",
   "execution_count": 102,
   "id": "45b5cb9d",
   "metadata": {},
   "outputs": [
    {
     "name": "stdout",
     "output_type": "stream",
     "text": [
      "47.11205715096438 , 5160.867286411156 μm\n"
     ]
    }
   ],
   "source": [
    "print(d1*1000,',',d2*10000, 'μm')\n"
   ]
  },
  {
   "cell_type": "code",
   "execution_count": 103,
   "id": "a6d769f8",
   "metadata": {},
   "outputs": [],
   "source": [
    "# test params\n",
    "l1 = 110\n",
    "l2 = 135\n",
    "l3 = 138\n",
    "r = 100\n",
    "wl = 1.087e-3"
   ]
  },
  {
   "cell_type": "code",
   "execution_count": 104,
   "id": "63d44c84",
   "metadata": {},
   "outputs": [],
   "source": [
    "abcd1 = ABCD1(l1,l2,l3,r)\n",
    "abcd2 = ABCD2(l1,l2,l3,r)"
   ]
  },
  {
   "cell_type": "code",
   "execution_count": 105,
   "id": "1e467ddc",
   "metadata": {},
   "outputs": [],
   "source": [
    "d1 = d(abcd1[0,0],abcd1[0,1],wl)\n",
    "d2 = d(abcd2[0,0],abcd2[0,1],wl)"
   ]
  },
  {
   "cell_type": "code",
   "execution_count": 107,
   "id": "06d8f959",
   "metadata": {},
   "outputs": [
    {
     "name": "stdout",
     "output_type": "stream",
     "text": [
      "50.92296497077628 , 282.61098621882894 μm\n"
     ]
    }
   ],
   "source": [
    "print(d1*1000,',',d2*1000, 'μm')\n"
   ]
  },
  {
   "cell_type": "code",
   "execution_count": 83,
   "id": "5433c118",
   "metadata": {},
   "outputs": [
    {
     "data": {
      "text/plain": [
       "0.5160867286411156"
      ]
     },
     "execution_count": 83,
     "metadata": {},
     "output_type": "execute_result"
    }
   ],
   "source": [
    "d2"
   ]
  },
  {
   "cell_type": "code",
   "execution_count": 43,
   "id": "7c665b3f",
   "metadata": {},
   "outputs": [],
   "source": [
    "a\n",
    "ma1 = ABCD1(0.115,0.138,0.135,0.100)"
   ]
  },
  {
   "cell_type": "code",
   "execution_count": 73,
   "id": "0a33c7ed",
   "metadata": {},
   "outputs": [],
   "source": [
    "ma1 = ABCD1(115,138,135,100)"
   ]
  },
  {
   "cell_type": "code",
   "execution_count": 74,
   "id": "95b85713",
   "metadata": {},
   "outputs": [
    {
     "data": {
      "text/plain": [
       "array([[-0.067 , -8.0025],\n",
       "       [ 0.1244, -0.067 ]])"
      ]
     },
     "execution_count": 74,
     "metadata": {},
     "output_type": "execute_result"
    }
   ],
   "source": [
    "ma1"
   ]
  },
  {
   "cell_type": "code",
   "execution_count": 44,
   "id": "17440eac",
   "metadata": {},
   "outputs": [
    {
     "data": {
      "text/plain": [
       "array([[-6.7000e-02, -8.0025e-03],\n",
       "       [ 1.2440e+02, -6.7000e-02]])"
      ]
     },
     "execution_count": 44,
     "metadata": {},
     "output_type": "execute_result"
    }
   ],
   "source": [
    "ma1"
   ]
  },
  {
   "cell_type": "code",
   "execution_count": 45,
   "id": "11503250",
   "metadata": {},
   "outputs": [
    {
     "data": {
      "text/plain": [
       "-0.0080025"
      ]
     },
     "execution_count": 45,
     "metadata": {},
     "output_type": "execute_result"
    }
   ],
   "source": [
    "ma1[0,1]"
   ]
  },
  {
   "cell_type": "code",
   "execution_count": 46,
   "id": "53af547b",
   "metadata": {},
   "outputs": [
    {
     "data": {
      "text/plain": [
       "0.0044890000000000225"
      ]
     },
     "execution_count": 46,
     "metadata": {},
     "output_type": "execute_result"
    }
   ],
   "source": [
    "ma1[0,0]**2"
   ]
  },
  {
   "cell_type": "code",
   "execution_count": 77,
   "id": "6667b2a4",
   "metadata": {},
   "outputs": [
    {
     "data": {
      "text/plain": [
       "0.04619886191392761"
      ]
     },
     "execution_count": 77,
     "metadata": {},
     "output_type": "execute_result"
    }
   ],
   "source": [
    "d(ma1[0,0],ma1[0,1],5.26e-3)"
   ]
  },
  {
   "cell_type": "code",
   "execution_count": 76,
   "id": "2391a702",
   "metadata": {},
   "outputs": [],
   "source": [
    "ma1 = ABCD1(31,47,56,30)"
   ]
  },
  {
   "cell_type": "code",
   "execution_count": 66,
   "id": "e7fc10be",
   "metadata": {},
   "outputs": [
    {
     "data": {
      "text/plain": [
       "array([[-0.73333333, -0.86666667],\n",
       "       [ 0.53333333, -0.73333333]])"
      ]
     },
     "execution_count": 66,
     "metadata": {},
     "output_type": "execute_result"
    }
   ],
   "source": [
    "ma1"
   ]
  },
  {
   "cell_type": "code",
   "execution_count": 49,
   "id": "b8064e44",
   "metadata": {},
   "outputs": [],
   "source": [
    "m1 = np.array([[1,100/2],[0,1]])\n",
    "m2 = np.array([[1,110/2],[0,1]])"
   ]
  },
  {
   "cell_type": "code",
   "execution_count": 14,
   "id": "29a47776",
   "metadata": {},
   "outputs": [
    {
     "data": {
      "text/plain": [
       "array([[  1., 105.],\n",
       "       [  0.,   1.]])"
      ]
     },
     "execution_count": 14,
     "metadata": {},
     "output_type": "execute_result"
    }
   ],
   "source": [
    "np.dot(m1,m2)"
   ]
  },
  {
   "cell_type": "code",
   "execution_count": 9,
   "id": "e3007d28",
   "metadata": {},
   "outputs": [
    {
     "data": {
      "text/plain": [
       "array([[  1., 105.],\n",
       "       [  0.,   1.]])"
      ]
     },
     "execution_count": 9,
     "metadata": {},
     "output_type": "execute_result"
    }
   ],
   "source": [
    "np.matmul(m1,m2)"
   ]
  },
  {
   "cell_type": "code",
   "execution_count": null,
   "id": "f9e5b151",
   "metadata": {},
   "outputs": [],
   "source": []
  }
 ],
 "metadata": {
  "kernelspec": {
   "display_name": "Python 3 (ipykernel)",
   "language": "python",
   "name": "python3"
  },
  "language_info": {
   "codemirror_mode": {
    "name": "ipython",
    "version": 3
   },
   "file_extension": ".py",
   "mimetype": "text/x-python",
   "name": "python",
   "nbconvert_exporter": "python",
   "pygments_lexer": "ipython3",
   "version": "3.9.12"
  }
 },
 "nbformat": 4,
 "nbformat_minor": 5
}
