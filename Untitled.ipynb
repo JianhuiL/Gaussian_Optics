{
 "cells": [
  {
   "cell_type": "code",
   "execution_count": 49,
   "id": "cf875396",
   "metadata": {},
   "outputs": [],
   "source": [
    "import sympy\n",
    "import numpy as np\n",
    "from sympy.physics.optics import RayTransferMatrix as ray\n",
    "\n",
    "from sympy.physics.optics import BeamParameter as beam\n",
    "from sympy.physics import optics\n",
    "import matplotlib.pyplot as plt\n",
    "p = beam(530e-9, 1, w=1e-3)"
   ]
  },
  {
   "cell_type": "code",
   "execution_count": 78,
   "id": "6f0c5334",
   "metadata": {},
   "outputs": [],
   "source": [
    "m = optics.CurvedMirror(100e-3)"
   ]
  },
  {
   "cell_type": "code",
   "execution_count": 79,
   "id": "82db08ed",
   "metadata": {},
   "outputs": [
    {
     "data": {
      "text/latex": [
       "$\\displaystyle \\left[\\begin{matrix}1 & 0\\\\-20.0 & 1\\end{matrix}\\right]$"
      ],
      "text/plain": [
       "Matrix([\n",
       "[    1, 0],\n",
       "[-20.0, 1]])"
      ]
     },
     "execution_count": 79,
     "metadata": {},
     "output_type": "execute_result"
    }
   ],
   "source": [
    "m"
   ]
  },
  {
   "cell_type": "code",
   "execution_count": 93,
   "id": "85095d31",
   "metadata": {},
   "outputs": [],
   "source": [
    "test = m*p.q"
   ]
  },
  {
   "cell_type": "code",
   "execution_count": 96,
   "id": "f5d945f1",
   "metadata": {},
   "outputs": [
    {
     "ename": "AttributeError",
     "evalue": "'CurvedMirror' object has no attribute 'w_0'",
     "output_type": "error",
     "traceback": [
      "\u001b[1;31m---------------------------------------------------------------------------\u001b[0m",
      "\u001b[1;31mAttributeError\u001b[0m                            Traceback (most recent call last)",
      "Input \u001b[1;32mIn [96]\u001b[0m, in \u001b[0;36m<cell line: 1>\u001b[1;34m()\u001b[0m\n\u001b[1;32m----> 1\u001b[0m \u001b[43mtest\u001b[49m\u001b[38;5;241;43m.\u001b[39;49m\u001b[43mw_0\u001b[49m\n",
      "\u001b[1;31mAttributeError\u001b[0m: 'CurvedMirror' object has no attribute 'w_0'"
     ]
    }
   ],
   "source": [
    "test.w_0"
   ]
  },
  {
   "cell_type": "code",
   "execution_count": 82,
   "id": "6582c6a0",
   "metadata": {},
   "outputs": [],
   "source": [
    "pp = m*p.q"
   ]
  },
  {
   "cell_type": "code",
   "execution_count": 89,
   "id": "73df0722",
   "metadata": {},
   "outputs": [
    {
     "data": {
      "text/latex": [
       "$\\displaystyle \\left[\\begin{matrix}1 + 0.001 i & 0\\\\-20.0 - 0.02 i & 1 + 0.001 i\\end{matrix}\\right]$"
      ],
      "text/plain": [
       "Matrix([\n",
       "[   1 + 0.001*I,           0],\n",
       "[-20.0 - 0.02*I, 1 + 0.001*I]])"
      ]
     },
     "execution_count": 89,
     "metadata": {},
     "output_type": "execute_result"
    }
   ],
   "source": [
    "pp"
   ]
  },
  {
   "cell_type": "code",
   "execution_count": 70,
   "id": "b1ce4ba1",
   "metadata": {},
   "outputs": [
    {
     "data": {
      "text/latex": [
       "$\\displaystyle 8.32892120035449 \\cdot 10^{-6}$"
      ],
      "text/plain": [
       "8.32892120035449e-6"
      ]
     },
     "execution_count": 70,
     "metadata": {},
     "output_type": "execute_result"
    }
   ],
   "source": [
    "pp.w_0.n()"
   ]
  },
  {
   "cell_type": "code",
   "execution_count": 74,
   "id": "74670a5e",
   "metadata": {},
   "outputs": [
    {
     "data": {
      "text/latex": [
       "$\\displaystyle \\frac{0.000999999999999999}{\\sqrt{361.0 + 1423.99430402278 \\pi^{2}}}$"
      ],
      "text/plain": [
       "0.000999999999999999/sqrt(361.0 + 1423.99430402278*pi**2)"
      ]
     },
     "execution_count": 74,
     "metadata": {},
     "output_type": "execute_result"
    }
   ],
   "source": [
    "pp.w_0"
   ]
  },
  {
   "cell_type": "code",
   "execution_count": 71,
   "id": "c186b8a9",
   "metadata": {},
   "outputs": [
    {
     "data": {
      "text/latex": [
       "$\\displaystyle 8.32892120035449 \\cdot 10^{-6}$"
      ],
      "text/plain": [
       "8.32892120035449e-6"
      ]
     },
     "execution_count": 71,
     "metadata": {},
     "output_type": "execute_result"
    }
   ],
   "source": [
    "pp.w_0.evalf()"
   ]
  },
  {
   "cell_type": "code",
   "execution_count": 75,
   "id": "af761335",
   "metadata": {},
   "outputs": [],
   "source": [
    "w_span = np.linspace(0.1e-3,1e-3,100)\n",
    "pp = []\n",
    "for w in w_span:\n",
    "    p = beam(1087e-9,1,w)\n",
    "    m = optics.CurvedMirror(100e-3)\n",
    "    par = m*p\n",
    "    pp.append(par.w_0.evalf())"
   ]
  },
  {
   "cell_type": "code",
   "execution_count": 77,
   "id": "729e0f9d",
   "metadata": {},
   "outputs": [
    {
     "data": {
      "text/plain": [
       "[<matplotlib.lines.Line2D at 0x20c858cb880>]"
      ]
     },
     "execution_count": 77,
     "metadata": {},
     "output_type": "execute_result"
    },
    {
     "data": {
      "image/png": "[encoded data removed]",
      "text/plain": [
       "<Figure size 432x288 with 1 Axes>"
      ]
     },
     "metadata": {
      "needs_background": "light"
     },
     "output_type": "display_data"
    }
   ],
   "source": [
    "plt.plot(pp)"
   ]
  },
  {
   "cell_type": "code",
   "execution_count": 28,
   "id": "76a2fb14",
   "metadata": {},
   "outputs": [
    {
     "ename": "TypeError",
     "evalue": "'module' object is not callable",
     "output_type": "error",
     "traceback": [
      "\u001b[1;31m---------------------------------------------------------------------------\u001b[0m",
      "\u001b[1;31mTypeError\u001b[0m                                 Traceback (most recent call last)",
      "Input \u001b[1;32mIn [28]\u001b[0m, in \u001b[0;36m<cell line: 1>\u001b[1;34m()\u001b[0m\n\u001b[1;32m----> 1\u001b[0m \u001b[43msympy\u001b[49m\u001b[38;5;241;43m.\u001b[39;49m\u001b[43mevalf\u001b[49m\u001b[43m(\u001b[49m\u001b[43mpp\u001b[49m\u001b[38;5;241;43m.\u001b[39;49m\u001b[43mw_0\u001b[49m\u001b[43m)\u001b[49m\n",
      "\u001b[1;31mTypeError\u001b[0m: 'module' object is not callable"
     ]
    }
   ],
   "source": [
    "sympy.evalf(pp.w_0)"
   ]
  },
  {
   "cell_type": "code",
   "execution_count": 31,
   "id": "1fe37ed5",
   "metadata": {},
   "outputs": [
    {
     "data": {
      "text/latex": [
       "$\\displaystyle 8.32892120035449 \\cdot 10^{-6}$"
      ],
      "text/plain": [
       "8.32892120035449e-6"
      ]
     },
     "execution_count": 31,
     "metadata": {},
     "output_type": "execute_result"
    }
   ],
   "source": [
    "sympy.N(pp.w_0)"
   ]
  },
  {
   "cell_type": "code",
   "execution_count": 14,
   "id": "f8b95090",
   "metadata": {},
   "outputs": [
    {
     "data": {
      "text/latex": [
       "$\\displaystyle \\operatorname{BeamParameter}\\left(5.3 \\cdot 10^{-7}, \\frac{- 71.1997152011392 \\pi^{2} - 19.0}{361.0 + 1423.99430402278 \\pi^{2}}, \\frac{1.88679245283019 \\pi}{361.0 + 1423.99430402278 \\pi^{2}}\\right)$"
      ],
      "text/plain": [
       "BeamParameter(5.3e-7, (-71.1997152011392*pi**2 - 19.0)/(361.0 + 1423.99430402278*pi**2), 1.88679245283019*pi/(361.0 + 1423.99430402278*pi**2))"
      ]
     },
     "execution_count": 14,
     "metadata": {},
     "output_type": "execute_result"
    }
   ],
   "source": [
    "pp."
   ]
  },
  {
   "cell_type": "code",
   "execution_count": 7,
   "id": "ccb5f819",
   "metadata": {
    "scrolled": true
   },
   "outputs": [
    {
     "data": {
      "text/latex": [
       "$\\displaystyle \\operatorname{BeamParameter}\\left(5.3 \\cdot 10^{-7}, 101, 1.88679245283019 \\pi\\right)$"
      ],
      "text/plain": [
       "BeamParameter(5.3e-7, 101, 1.88679245283019*pi)"
      ]
     },
     "execution_count": 7,
     "metadata": {},
     "output_type": "execute_result"
    }
   ],
   "source": [
    "ray(1,100,0,1)*p"
   ]
  },
  {
   "cell_type": "code",
   "execution_count": null,
   "id": "f806e778",
   "metadata": {},
   "outputs": [],
   "source": []
  }
 ],
 "metadata": {
  "kernelspec": {
   "display_name": "Python 3 (ipykernel)",
   "language": "python",
   "name": "python3"
  },
  "language_info": {
   "codemirror_mode": {
    "name": "ipython",
    "version": 3
   },
   "file_extension": ".py",
   "mimetype": "text/x-python",
   "name": "python",
   "nbconvert_exporter": "python",
   "pygments_lexer": "ipython3",
   "version": "3.9.12"
  }
 },
 "nbformat": 4,
 "nbformat_minor": 5
}
