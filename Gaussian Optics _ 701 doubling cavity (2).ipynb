{
 "cells": [
  {
   "cell_type": "code",
   "execution_count": 10,
   "metadata": {},
   "outputs": [],
   "source": [
    "from __future__ import division\n",
    "from scipy.optimize import curve_fit\n",
    "from pylab import *\n",
    "%matplotlib inline"
   ]
  },
  {
   "cell_type": "markdown",
   "metadata": {},
   "source": [
    "This note book is for simulation of Gaussian optics in simple lens setups for beam shaping. For use in the case where simple formula $$w^\\prime=\\frac{\\lambda f}{\\pi w}$$ is insufficent, i.e. where $f\\sim z_r$ and/or the beam is highly elliptical/astigmatic.\n"
   ]
  },
  {
   "cell_type": "markdown",
   "metadata": {},
   "source": [
    "#### Constant Parameters"
   ]
  },
  {
   "cell_type": "markdown",
   "metadata": {},
   "source": [
    "All dimensions are scaled to millimeters (keep in mind when specifying waists and focal length)\n",
    "\n",
    "Make sure you put in your wavelength here!)"
   ]
  },
  {
   "cell_type": "code",
   "execution_count": 11,
   "metadata": {},
   "outputs": [],
   "source": [
    "mm=1e-3\n",
    "lam=701e-9/mm #wavelength"
   ]
  },
  {
   "cell_type": "markdown",
   "metadata": {},
   "source": [
    "#### Basic Functions"
   ]
  },
  {
   "cell_type": "markdown",
   "metadata": {},
   "source": [
    "Function for propegation of Gaussian beam by ABCD matrix method.  See Yariv Quanutum Electronics, or Siegmann Lasers for textbook treatment"
   ]
  },
  {
   "cell_type": "code",
   "execution_count": 12,
   "metadata": {},
   "outputs": [],
   "source": [
    "def zr(waist):\n",
    "    #rayleigh range\n",
    "    return pi*waist**2/lam\n",
    "def waistz(z,z0,w0):\n",
    "    #beam waist as function of z\n",
    "    return w0*sqrt(1+((z-z0)/zr(w0))**2)\n",
    "def radiusz(z,z0,w0):\n",
    "    #beam radius of curvature as function of z\n",
    "    return (z-z0)*(1+((z-z0)/zr(w0))**2)\n",
    "def q0(w0):\n",
    "    #q parameter at waist\n",
    "    return 1j*pi*w0**2/lam\n",
    "def wfromq(q):\n",
    "    #convert q back to waist values\n",
    "    return sqrt(-1*lam/(pi*imag(1/q)))\n",
    "def propd(q,d):\n",
    "    #propegaction of q by distance d\n",
    "    return q+d\n",
    "def lensf(q,f):\n",
    "    #action of lens of focal lens f on q\n",
    "    return q/(-q/f+1)\n",
    "def qz(z,z0,w0):\n",
    "    #q parameter at z given w0 at z0\n",
    "    return propd(q0(w0),z-z0)"
   ]
  },
  {
   "cell_type": "markdown",
   "metadata": {},
   "source": [
    "#### Find waist from two point measurement"
   ]
  },
  {
   "cell_type": "markdown",
   "metadata": {},
   "source": [
    "Assume we measure the waist $w_1$ at $z=z_1=0$ and $w_2$ at $z=z_2$, find the location and value of the waist, $z_0,w_0$ (for both x and y)"
   ]
  },
  {
   "cell_type": "code",
   "execution_count": 13,
   "metadata": {},
   "outputs": [],
   "source": [
    "def findwaist(w1,w2,z2):\n",
    "    zdata=array([0,z2])\n",
    "    wdata=array([w1,w2])\n",
    "    #curvefit to waist function using p0=[z0,w0] as initial parameters\n",
    "    if w1>w2: #if focusing, using second waist as initial parameters\n",
    "        [z0,w0]=[2*z2,w2/2.]\n",
    "    else: #if diverging, use first waist\n",
    "        [z0,w0]=[-z2,w1/2.]\n",
    "    popt, pcov = curve_fit(waistz,zdata,wdata,p0=[z0,w0])\n",
    "    return popt #return fit paramers [z0,w0]"
   ]
  },
  {
   "cell_type": "code",
   "execution_count": 14,
   "metadata": {},
   "outputs": [
    {
     "name": "stdout",
     "output_type": "stream",
     "text": [
      "x: z0=625.79 mm and w0=0.583 mm\n",
      "y: z0=695.69 mm and w0=0.568 mm\n"
     ]
    },
    {
     "name": "stderr",
     "output_type": "stream",
     "text": [
      "C:\\Users\\16612\\Anaconda3\\lib\\site-packages\\scipy\\optimize\\minpack.py:787: OptimizeWarning: Covariance of the parameters could not be estimated\n",
      "  category=OptimizeWarning)\n"
     ]
    },
    {
     "data": {
      "text/plain": [
       "[<matplotlib.lines.Line2D at 0x267ca17f860>]"
      ]
     },
     "execution_count": 14,
     "metadata": {},
     "output_type": "execute_result"
    },
    {
     "data": {
      "image/png": "[encoded data removed]",
      "text/plain": [
       "<Figure size 432x288 with 1 Axes>"
      ]
     },
     "metadata": {
      "needs_background": "light"
     },
     "output_type": "display_data"
    }
   ],
   "source": [
    "#measured values: (assumes z1=0)\n",
    "\n",
    "#x\n",
    "[xw1,xw2,xz2]=[.63,.60,1000] #measured values\n",
    "[xz0,xw0] = findwaist(xw1,xw2,xz2)\n",
    "print(\"x: z0=%0.2f mm and w0=%0.3f mm\" %(xz0,xw0))\n",
    "#y\n",
    "[yw1,yw2,yz2]=[0.63,0.58,1000] #measured values\n",
    "[yz0,yw0] = findwaist(yw1,yw2,yz2)\n",
    "print(\"y: z0=%0.2f mm and w0=%0.3f mm\" %(yz0,yw0))\n",
    "#[.504,.598,475]\n",
    "\n",
    "[xz0,xw0] = [708.86, 0.60]\n",
    "[yz0,yw0] = [646.85, 0.55]\n",
    "\n",
    "max_dist = 2000 #total propegaction distance in mm\n",
    "Nsteps = 5000\n",
    "zlist = linspace(-max_dist,max_dist,Nsteps)\n",
    "plot(0,xw1,'kx',markersize=10)\n",
    "plot(xz2,xw2,'kx',markersize=10)\n",
    "plot(xz0,xw0,'ko')\n",
    "plot(475,.504,'kD')\n",
    "plot(225,.520,'kD')\n",
    "plot(zlist,waistz(zlist,xz0,xw0),'k')\n",
    "plot(0,yw1,'rx',markersize=10)\n",
    "plot(yz2,yw2,'rx',markersize=10)\n",
    "plot(yz0,yw0,'ro')\n",
    "plot(zlist,waistz(zlist,yz0,yw0),'r')\n",
    "plot(475,.498,'rD')\n",
    "plot(275,.540,'rD')\n",
    "\n"
   ]
  },
  {
   "cell_type": "markdown",
   "metadata": {},
   "source": [
    "#### Set up beam propegation:"
   ]
  },
  {
   "cell_type": "code",
   "execution_count": 15,
   "metadata": {},
   "outputs": [
    {
     "name": "stdout",
     "output_type": "stream",
     "text": [
      "(-708.86+1613.371405552533j)\n",
      "(-646.85+1355.6801393878925j)\n"
     ]
    }
   ],
   "source": [
    "#inital q parameters at z=0 for x and y (using waist locations determerined above)\n",
    "qx0 = qz(0,xz0,xw0)\n",
    "qy0 = qz(0,yz0,yw0)\n",
    "#qx0 = q0(1.7)\n",
    "#qy0 = q0(1.7)\n",
    "print(qx0)\n",
    "print(qy0)\n",
    "\n",
    "max_dist = 1400 #total propegaction distance in mm\n",
    "Nsteps = 500\n",
    "zlist = linspace(0,max_dist,Nsteps)\n",
    "stepsize = zlist[1] - zlist[0]\n",
    "q = 1j*zeros((2,Nsteps)) #top row is for x and bottom row is y\n",
    "q[:,0] = [qx0,qy0] #set inital parameters\n"
   ]
  },
  {
   "cell_type": "markdown",
   "metadata": {},
   "source": [
    "###Check Propegation without lenses:"
   ]
  },
  {
   "cell_type": "code",
   "execution_count": 16,
   "metadata": {},
   "outputs": [
    {
     "data": {
      "text/plain": [
       "(0, 3.0)"
      ]
     },
     "execution_count": 16,
     "metadata": {},
     "output_type": "execute_result"
    },
    {
     "data": {
      "image/png": "[encoded data removed]",
      "text/plain": [
       "<Figure size 432x288 with 1 Axes>"
      ]
     },
     "metadata": {
      "needs_background": "light"
     },
     "output_type": "display_data"
    }
   ],
   "source": [
    "for i,z in enumerate(zlist[1:]):\n",
    "    q[0,i+1]=propd(q[0,i],stepsize)\n",
    "    q[1,i+1]=propd(q[1,i],stepsize)\n",
    "wx=wfromq(q[0,:])\n",
    "wy=wfromq(q[1,:])\n",
    "\n",
    "plot(0,xw1,'kx',markersize=10)\n",
    "plot(xz2,xw2,'kx',markersize=10)\n",
    "plot(0,yw1,'rx',markersize=10)\n",
    "plot(yz2,yw2,'rx',markersize=10)\n",
    "\n",
    "\n",
    "plot(zlist,wx,'k',label='waist x')\n",
    "plot(zlist,wy,'r',label='waist y')\n",
    "xlabel('Distance [mm]')\n",
    "legend(loc=2)\n",
    "plt.ylim(0,3.)"
   ]
  },
  {
   "cell_type": "markdown",
   "metadata": {},
   "source": [
    "### Simulation including both x and y dimension"
   ]
  },
  {
   "cell_type": "markdown",
   "metadata": {},
   "source": [
    "Include Lenses, a three lens telescope to collemate the beam to a round spot, forth lens to focus to doubling cavity"
   ]
  },
  {
   "cell_type": "code",
   "execution_count": 20,
   "metadata": {},
   "outputs": [
    {
     "name": "stdout",
     "output_type": "stream",
     "text": [
      "0 200.0 62.0\n",
      "1 398.0 69.92\n",
      "2 423.0 70.92\n",
      "3 550.0 76.0\n",
      "0.3685883527422152\n",
      "0.29487808091816387\n"
     ]
    },
    {
     "data": {
      "image/png": "[encoded data removed]",
      "text/plain": [
       "<Figure size 432x288 with 1 Axes>"
      ]
     },
     "metadata": {
      "needs_background": "light"
     },
     "output_type": "display_data"
    }
   ],
   "source": [
    "max_dist = 2000 #total propegaction distance in mm\n",
    "Nsteps = 2000\n",
    "zlist = linspace(0,max_dist,Nsteps)\n",
    "stepsize = zlist[1] - zlist[0]\n",
    "q = 1j*zeros((2,Nsteps)) #top row is for x and bottom row is y\n",
    "q[:,0] = [qx0,qy0] #set inital parameters\n",
    "\n",
    "#denfine lenses [z,fx,fy]\n",
    "finf=10e6 #effective infinite focal length for cylindiral lenses, using 'inf' causes an error\n",
    "\n",
    "fx=75.\n",
    "fy=100.\n",
    "f1=125.\n",
    "f2=750.\n",
    "p0 = 200\n",
    "#x=f1+f2+2\n",
    "lens1=[p0,f1,f1]\n",
    "lens2=[p0+f1+fx-2,fx,finf]\n",
    "lens3=[p0+f1+fy-2,finf,fy]\n",
    "lens4=[550,f2,f2]\n",
    "#lens5=[2100,50,50]\n",
    "#lens6=[2150,100,100]\n",
    "lenses=array([lens1,lens2,lens3,lens4])\n",
    "\n",
    "for i,z in enumerate(zlist[1:]):\n",
    "    for j in range(len(lenses[:,0])): #loop over lenses\n",
    "        if abs(z-lenses[j,0])<stepsize/2: #if less than half step size from lens location, apply to q\n",
    "            q[0,i]=lensf(q[0,i],lenses[j,1])\n",
    "            q[1,i]=lensf(q[1,i],lenses[j,2])\n",
    "            print(j,lenses[j,0],lenses[j,0]/25.+54)\n",
    "            plt.axvline(x=lenses[j,0])\n",
    "    q[0,i+1]=propd(q[0,i],stepsize)\n",
    "    q[1,i+1]=propd(q[1,i],stepsize)\n",
    "    \n",
    "wx=wfromq(q[0,:])\n",
    "wy=wfromq(q[1,:])\n",
    "\n",
    "plot(zlist,wx,'b',label='waist x',)\n",
    "plot(zlist,wy,'r',label='waist y')\n",
    "xlabel('Distance [mm]')\n",
    "legend(loc=2)\n",
    "ylim(0,0.7)\n",
    "plot([1000, 1300], [.34, .34],'b--', linewidth=2)#x target waist\n",
    "plot([1000, 1300], [.26, .26],'r--', linewidth=2)#y target waist\n",
    "plt.axvline(x=1175,color='k')\n",
    "\n",
    "print(wx[1175])\n",
    "print(wy[1175])"
   ]
  },
  {
   "cell_type": "code",
   "execution_count": 9,
   "metadata": {},
   "outputs": [
    {
     "data": {
      "text/plain": [
       "(0, 0.1)"
      ]
     },
     "execution_count": 9,
     "metadata": {},
     "output_type": "execute_result"
    },
    {
     "data": {
      "image/png": "[encoded data removed]",
      "text/plain": [
       "<Figure size 432x288 with 1 Axes>"
      ]
     },
     "metadata": {
      "needs_background": "light"
     },
     "output_type": "display_data"
    }
   ],
   "source": [
    "ztlist = linspace(200,400,200)\n",
    "plot(ztlist, wx[200:400], 'b')\n",
    "plot(ztlist, wy[200:400], 'r')\n",
    "ylim(0,0.1)"
   ]
  },
  {
   "cell_type": "markdown",
   "metadata": {},
   "source": [
    "### Beam Propegation for a circular beam"
   ]
  },
  {
   "cell_type": "code",
   "execution_count": 10,
   "metadata": {},
   "outputs": [
    {
     "name": "stdout",
     "output_type": "stream",
     "text": [
      "2011.784510979256j\n"
     ]
    }
   ],
   "source": [
    "#inital q parameter at z=0 \n",
    "qi0 = q0(0.670)  # initial waist\n",
    "print(qi0)\n",
    "\n",
    "max_dist = 1500 #total propegaction distance in mm\n",
    "Nsteps = 1000\n",
    "zlist = linspace(0,max_dist,Nsteps)\n",
    "stepsize = zlist[1] - zlist[0]\n",
    "q = 1j*zeros(Nsteps) #empty complex array\n",
    "q[0] = qi0 #set inital parameters"
   ]
  },
  {
   "cell_type": "code",
   "execution_count": 11,
   "metadata": {},
   "outputs": [
    {
     "data": {
      "text/plain": [
       "[<matplotlib.lines.Line2D at 0x233cfea4940>]"
      ]
     },
     "execution_count": 11,
     "metadata": {},
     "output_type": "execute_result"
    },
    {
     "data": {
      "image/png": "[encoded data removed]",
      "text/plain": [
       "<Figure size 432x288 with 1 Axes>"
      ]
     },
     "metadata": {
      "needs_background": "light"
     },
     "output_type": "display_data"
    }
   ],
   "source": [
    "q[0] = qi0 #set inital parameters\n",
    "#denfine lenses [z,f] in mm\n",
    "lens1=[1,75.0]\n",
    "lens2=[1+75+53.5,50.0]\n",
    "lenses=array([lens1,lens2])\n",
    "\n",
    "for i,z in enumerate(zlist[1:]):\n",
    "    for j in range(len(lenses[:,0])): #loop over lenses\n",
    "        if abs(z-lenses[j,0])<stepsize/2: #if less than half step size from lens location, apply to q\n",
    "            q[i]=lensf(q[i],lenses[j,1])\n",
    "            #print j\n",
    "    q[i+1]=propd(q[i],stepsize)\n",
    "    \n",
    "wx=wfromq(q[:])\n",
    "plot(zlist,wx,'b',label='waist x',)\n",
    "plt.grid()\n",
    "xlabel('Distance [mm]')\n",
    "ylim(0,1)\n",
    "plot([100, 1200], [.300, .300],'b--', linewidth=2)#x target waist"
   ]
  },
  {
   "cell_type": "code",
   "execution_count": null,
   "metadata": {},
   "outputs": [],
   "source": []
  },
  {
   "cell_type": "code",
   "execution_count": null,
   "metadata": {},
   "outputs": [],
   "source": []
  }
 ],
 "metadata": {
  "anaconda-cloud": {},
  "kernelspec": {
   "display_name": "Python 3",
   "language": "python",
   "name": "python3"
  },
  "language_info": {
   "codemirror_mode": {
    "name": "ipython",
    "version": 3
   },
   "file_extension": ".py",
   "mimetype": "text/x-python",
   "name": "python",
   "nbconvert_exporter": "python",
   "pygments_lexer": "ipython3",
   "version": "3.7.3"
  }
 },
 "nbformat": 4,
 "nbformat_minor": 1
}
