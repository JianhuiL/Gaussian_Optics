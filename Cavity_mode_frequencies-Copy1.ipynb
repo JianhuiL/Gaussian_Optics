{
 "cells": [
  {
   "cell_type": "code",
   "execution_count": 1,
   "id": "e341120d",
   "metadata": {},
   "outputs": [],
   "source": [
    "import numpy as np\n",
    "import matplotlib.pyplot as plt\n",
    "from scipy import constants\n",
    "from matplotlib.pyplot import figure"
   ]
  },
  {
   "cell_type": "code",
   "execution_count": 2,
   "id": "adcd8c74",
   "metadata": {},
   "outputs": [],
   "source": [
    "def ω_qnm(q,n,m,r1,r2,L):\n",
    "    return constants.c/2/L*(q+(n+m+1)*np.arccos(np.sqrt((1-L/r1)*(1-L/r2)))/np.pi)\n",
    "\n",
    "def fsr(L):\n",
    "    return constants.c/2/L\n",
    "\n",
    "def finesse(r1,r2):\n",
    "    return np.pi*np.sqrt(r1*r1)/(1-r1*r2)\n",
    "\n",
    "def g(R,L):\n",
    "    return 1-L/R\n",
    "\n",
    "def dx(g1,g2,L,theta1,theta2):\n",
    "    return g2*L*theta1/(1-g1*g2)+L*theta2/(1-g1*g2)\n",
    "\n",
    "def dtheta(g1,g2,theta1,theta2):\n",
    "    return ((1-g2)*theta1 - (1-g1)*theta2)/(1-g1*g2)\n",
    "\n",
    "def waist(λ,L,R):\n",
    "    return np.sqrt(λ*L/2/np.pi*2*R/L/np.sqrt(2*R/L-1))\n",
    "\n",
    "def waist0(λ,L,R):\n",
    "    return np.sqrt(λ*L/2/np.pi*np.sqrt(2*R/L-1))"
   ]
  },
  {
   "cell_type": "code",
   "execution_count": 3,
   "id": "82aefe58",
   "metadata": {},
   "outputs": [
    {
     "name": "stdout",
     "output_type": "stream",
     "text": [
      "5.4e-09\n"
     ]
    },
    {
     "data": {
      "text/plain": [
       "9956208.59375"
      ]
     },
     "execution_count": 3,
     "metadata": {},
     "output_type": "execute_result"
    }
   ],
   "source": [
    "#piezo glue expansion\n",
    "\n",
    "exp_coeff = 54e-6\n",
    "dl = 1e-3*0.1*exp_coeff\n",
    "print(dl)\n",
    "r1 = 0.15\n",
    "r2 = 0.15\n",
    "\n",
    "l = 0.15\n",
    "ω_qnm(276752,0,0,r1,r2,l) - ω_qnm(276752,0,0,r1,r2,l+dl)\n"
   ]
  },
  {
   "cell_type": "code",
   "execution_count": 4,
   "id": "9af75b6b",
   "metadata": {
    "scrolled": true
   },
   "outputs": [
    {
     "data": {
      "text/plain": [
       "3140.807059028211"
      ]
     },
     "execution_count": 4,
     "metadata": {},
     "output_type": "execute_result"
    }
   ],
   "source": [
    "finesse(0.9995,0.9995)"
   ]
  },
  {
   "cell_type": "code",
   "execution_count": null,
   "id": "a2474247",
   "metadata": {},
   "outputs": [
    {
     "name": "stdout",
     "output_type": "stream",
     "text": [
      "0.0\n",
      "nearest line = -1498.96229\n",
      "-2498.27048334375\n",
      "fsr= 999.3081933333334 MHz\n",
      "finesse = 1570.010535735991\n",
      "linewidth= 636.4977626502849 kHz\n"
     ]
    },
    {
     "data": {
      "image/png": "[encoded data removed]",
      "text/plain": [
       "<Figure size 800x640 with 1 Axes>"
      ]
     },
     "metadata": {},
     "output_type": "display_data"
    }
   ],
   "source": [
    "r1 = 0.15\n",
    "r2 = 0.15\n",
    "l = 0.15\n",
    "R1=0.9999\n",
    "R2=0.999\n",
    "figure(figsize=(10, 8), dpi=80)\n",
    "g1 = g(r1,l)\n",
    "g2 = g(r2,l)\n",
    "print(g1*g2)\n",
    "x = []\n",
    "y=[]\n",
    "\n",
    "lsize =0.5\n",
    "for j in range(0,8):\n",
    "    for k in range(0,8):\n",
    "        x.append(int(ω_qnm(276753,j,k,r1,r2,l)))\n",
    "        y.append(int(100*0.7**j*100*0.7**k))         \n",
    "markers,stems,base = plt.stem(x,y,'r')\n",
    "stems.set_linewidth(lsize)\n",
    "markers.set_marker('.')\n",
    "\n",
    "for j in range(0,8):\n",
    "    for k in range(0,8):\n",
    "        x.append(int(ω_qnm(276753+1,j,k,r1,r2,l)))\n",
    "        y.append(int(100*0.7**j*100*0.7**k))\n",
    "        \n",
    "markers,stems,base = plt.stem(x,y,'b')\n",
    "stems.set_linewidth(lsize)\n",
    "markers.set_marker('.')\n",
    "\n",
    "for j in range(0,8):\n",
    "    for k in range(0,8):\n",
    "        x.append(int(ω_qnm(276753+2,j,k,r1,r2,l)))\n",
    "        y.append(int(100*0.7**j*100*0.7**k))\n",
    "markers,stems,base = plt.stem(x,y,'g')\n",
    "stems.set_linewidth(lsize)\n",
    "markers.set_marker('.')\n",
    "\n",
    "for j in range(0,8):\n",
    "    for k in range(0,8):\n",
    "        x.append(int(ω_qnm(276753+3,j,k,r1,r2,l)))\n",
    "        y.append(int(100*0.7**j*100*0.7**k))\n",
    "        \n",
    "markers,stems,base = plt.stem(x,y,'c')\n",
    "stems.set_linewidth(lsize)\n",
    "markers.set_marker('.')\n",
    "\n",
    "for j in range(0,8):\n",
    "    for k in range(0,8):\n",
    "        x.append(int(ω_qnm(276753+4,j,k,r1,r2,l)))\n",
    "        y.append(int(100*0.7**j*100*0.7**k))\n",
    "        \n",
    "markers,stems,base = plt.stem(x,y,'c')\n",
    "stems.set_linewidth(lsize)\n",
    "markers.set_marker('.')\n",
    "\n",
    "for j in range(0,8):\n",
    "    for k in range(0,8):\n",
    "        x.append(int(ω_qnm(276753+5,j,k,r1,r2,l)))\n",
    "        y.append(int(100*0.7**j*100*0.7**k))\n",
    "        \n",
    "markers,stems,base = plt.stem(x,y,'c')\n",
    "stems.set_linewidth(lsize)\n",
    "markers.set_marker('.')\n",
    "\n",
    "print('nearest line =',(ω_qnm(276754,0,0,r1,r2,l)-ω_qnm(276753,5,0,r1,r2,l))/1e6)\n",
    "print((ω_qnm(276755,0,0,r1,r2,l)-ω_qnm(276753,9,0,r1,r2,l))/1e6)\n",
    "print('fsr=',fsr(l)/1e6,'MHz')\n",
    "print('finesse =', finesse(R1,R2))\n",
    "print('linewidth=', fsr(l)/finesse(R1,R2)/1000,'kHz')\n",
    "stems.set_linewidth(lsize)\n",
    "plt.show()"
   ]
  },
  {
   "cell_type": "code",
   "execution_count": 5,
   "id": "8d5d8a3f",
   "metadata": {},
   "outputs": [
    {
     "name": "stdout",
     "output_type": "stream",
     "text": [
      "the real linewidth is: 0.4596817689333334 MHz\n"
     ]
    }
   ],
   "source": [
    "dis = 10e-3\n",
    "width = 4.6e-6\n",
    "lin_re = fsr(l)/1e6*width/dis\n",
    "print('the real linewidth is:',lin_re,'MHz')"
   ]
  },
  {
   "cell_type": "code",
   "execution_count": 6,
   "id": "9d768ad6",
   "metadata": {},
   "outputs": [
    {
     "name": "stdout",
     "output_type": "stream",
     "text": [
      "waist on concave mirror [seed] = 313.306333772754 μm\n",
      "waist on concave mirror [Cs] = 277.8911677109482 μm\n"
     ]
    }
   ],
   "source": [
    "waistcc = waist(np.array([1083e-9,852e-9]),l,1)\n",
    "print('waist on concave mirror [seed] =',waistcc[0]/1e-6,'μm')\n",
    "print('waist on concave mirror [Cs] =',waistcc[1]/1e-6,'μm')"
   ]
  }
 ],
 "metadata": {
  "kernelspec": {
   "display_name": "[SPB]",
   "language": "python",
   "name": "python3"
  },
  "language_info": {
   "codemirror_mode": {
    "name": "ipython",
    "version": 3
   },
   "file_extension": ".py",
   "mimetype": "text/x-python",
   "name": "python",
   "nbconvert_exporter": "python",
   "pygments_lexer": "ipython3",
   "version": "3.10.6"
  },
  "vscode": {
   "interpreter": {
    "hash": "610203a45414974695becb8b8ccaddea29a7fb0613d3167b3c6cad0511e05eb9"
   }
  }
 },
 "nbformat": 4,
 "nbformat_minor": 5
}
