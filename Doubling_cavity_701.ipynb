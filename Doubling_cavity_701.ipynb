{
 "cells": [
  {
   "cell_type": "code",
   "execution_count": 1,
   "metadata": {},
   "outputs": [],
   "source": [
    "#!/usr/bin/env python\n",
    "# coding: utf-8"
   ]
  },
  {
   "cell_type": "markdown",
   "metadata": {},
   "source": [
    "In[25]:"
   ]
  },
  {
   "cell_type": "code",
   "execution_count": 2,
   "metadata": {},
   "outputs": [],
   "source": [
    "import numpy as np\n",
    "import matplotlib.pyplot as plt\n",
    "import matplotlib as mpl\n",
    "from pylab import *\n",
    "get_ipython().run_line_magic('matplotlib', 'inline')\n",
    "mm=10**-3"
   ]
  },
  {
   "cell_type": "markdown",
   "metadata": {},
   "source": [
    "## Bowtie Cavity Geometry"
   ]
  },
  {
   "cell_type": "markdown",
   "metadata": {},
   "source": [
    "Mirrors on hand:<br>\n",
    "<br>\n",
    "laytec \\#110668 : 75mm RoC, HR(0Â°,710-890nm)>99.95% + R(0Â°,350-450nm)<5%,  \tAR(0Â°,350-450nm)<0.2%<br>\n",
    "<br>\n"
   ]
  },
  {
   "cell_type": "markdown",
   "metadata": {},
   "source": [
    "A bowtie cavity has three independant geometric parameters: the short arm length $d_1$, long arm length $d_2$, and folding angle $\\alpha$."
   ]
  },
  {
   "cell_type": "markdown",
   "metadata": {},
   "source": [
    "In[26]:"
   ]
  },
  {
   "cell_type": "code",
   "execution_count": 80,
   "metadata": {},
   "outputs": [],
   "source": [
    "def cos_ang(a,b,c):\n",
    "    return (a**2+b**2 -c**2)/2/a/b"
   ]
  },
  {
   "cell_type": "code",
   "execution_count": 83,
   "metadata": {},
   "outputs": [],
   "source": [
    "ang = cos_ang(11.5,13.8,5.5)*180/np.pi"
   ]
  },
  {
   "cell_type": "code",
   "execution_count": 84,
   "metadata": {},
   "outputs": [
    {
     "data": {
      "text/plain": [
       "52.79010006555072"
      ]
     },
     "execution_count": 84,
     "metadata": {},
     "output_type": "execute_result"
    }
   ],
   "source": [
    "ang"
   ]
  },
  {
   "cell_type": "code",
   "execution_count": 107,
   "metadata": {},
   "outputs": [],
   "source": [
    "d_1=115.*mm#physical seperation of mirror in short arm, not optical path length\n",
    "d_2=135.*mm\n",
    "alpha=(90 - ang)*np.pi/180/2"
   ]
  },
  {
   "cell_type": "code",
   "execution_count": 108,
   "metadata": {},
   "outputs": [
    {
     "data": {
      "text/plain": [
       "18.60494996722464"
      ]
     },
     "execution_count": 108,
     "metadata": {},
     "output_type": "execute_result"
    }
   ],
   "source": [
    "alpha*(180/np.pi)"
   ]
  },
  {
   "cell_type": "code",
   "execution_count": 109,
   "metadata": {},
   "outputs": [],
   "source": [
    "R=100.*mm #mirror RoC\n",
    "lam=1087E-9 #wavelength of fundamental"
   ]
  },
  {
   "cell_type": "markdown",
   "metadata": {},
   "source": [
    "Include extra optical path length of crystal in the short arm:"
   ]
  },
  {
   "cell_type": "markdown",
   "metadata": {},
   "source": [
    "In[27]:"
   ]
  },
  {
   "cell_type": "code",
   "execution_count": 110,
   "metadata": {},
   "outputs": [
    {
     "name": "stdout",
     "output_type": "stream",
     "text": [
      "107.04819277108433\n"
     ]
    }
   ],
   "source": [
    "l_c=20*mm #crystal length\n",
    "n_c=1.66 #approximate refractive index\n",
    "d_short=(d_1-l_c)+l_c/(n_c)#effective optical path length in short arm %why l_c / n_c \n",
    "print(d_short/mm)"
   ]
  },
  {
   "cell_type": "markdown",
   "metadata": {},
   "source": [
    "# Brewster angle and refraction angle:"
   ]
  },
  {
   "cell_type": "markdown",
   "metadata": {},
   "source": [
    "In[28]:"
   ]
  },
  {
   "cell_type": "code",
   "execution_count": 111,
   "metadata": {},
   "outputs": [
    {
     "name": "stdout",
     "output_type": "stream",
     "text": [
      "brewster: 58.93483511450135\n",
      "refraction angle: 31.065164885498643\n",
      "47.5\n"
     ]
    }
   ],
   "source": [
    "thetaB = arctan(n_c)\n",
    "print('brewster:',thetaB*180./pi)\n",
    "thetaR = arcsin(sin(thetaB)/n_c)\n",
    "print('refraction angle:',thetaR*180./pi)\n",
    "print((d_1-l_c)/2.*1e3)"
   ]
  },
  {
   "cell_type": "markdown",
   "metadata": {},
   "source": [
    "Plot cavity approximate geometry (without brewster displacement) including a 15mm $\\times$ 15mm oven:"
   ]
  },
  {
   "cell_type": "markdown",
   "metadata": {},
   "source": [
    "In[29]:"
   ]
  },
  {
   "cell_type": "code",
   "execution_count": 115,
   "metadata": {},
   "outputs": [
    {
     "name": "stdout",
     "output_type": "stream",
     "text": [
      "long flat length: 135.0000 mm\n",
      "width: 42.0792 mm\n"
     ]
    },
    {
     "data": {
      "text/plain": [
       "[<matplotlib.lines.Line2D at 0x242f9126940>]"
      ]
     },
     "execution_count": 115,
     "metadata": {},
     "output_type": "execute_result"
    },
    {
     "data": {
      "image/png": "[encoded data removed]",
      "text/plain": [
       "<Figure size 288x288 with 1 Axes>"
      ]
     },
     "metadata": {
      "needs_background": "light"
     },
     "output_type": "display_data"
    }
   ],
   "source": [
    "# l_3=(d_2-d_1/np.cos(alpha))/(1+1/np.cos(alpha))#length of long parallel segment\n",
    "l_3 = d_2\n",
    "print('long flat length: %0.4f mm'%(l_3/mm))\n",
    "width=d_1/2.*np.tan(alpha)+l_3/2.*np.tan(alpha)\n",
    "print('width: %0.4f mm'%(width/mm))\n",
    "A=np.array([-d_1/2.,0])\n",
    "B=np.array([d_1/2.,0])\n",
    "C=np.array([-l_3/2.,-width])\n",
    "D=np.array([l_3/2.,-width])\n",
    "XY=np.vstack((A,B,C,D,A))\n",
    "fig = plt.figure(figsize=(4, 4)) #make plot square for true aspect ratio\n",
    "plt.plot(XY[:,0]/mm,XY[:,1]/mm)\n",
    "scale=60#half window size in mm\n",
    "plt.xlim(-scale,scale)\n",
    "plt.ylim(-scale,scale)\n",
    "ovendim=40*mm\n",
    "A=np.array([-ovendim/2,ovendim2/2])\n",
    "B=np.array([ovendim/2,ovendim2/2])\n",
    "C=np.array([ovendim/2,-ovendim2/2])\n",
    "D=np.array([-ovendim/2,-ovendim2/2])\n",
    "XY=np.vstack((A,B,C,D,A))\n",
    "plt.plot(XY[:,0]/mm,XY[:,1]/mm,'r')"
   ]
  },
  {
   "cell_type": "markdown",
   "metadata": {},
   "source": [
    "## Find waists by ABCD matrices:"
   ]
  },
  {
   "cell_type": "markdown",
   "metadata": {},
   "source": [
    "Define matrices for propegation and focusing from spherical mirrors (both horizontal and vertical):"
   ]
  },
  {
   "cell_type": "markdown",
   "metadata": {},
   "source": [
    "In[12]:"
   ]
  },
  {
   "cell_type": "code",
   "execution_count": 116,
   "metadata": {},
   "outputs": [],
   "source": [
    "def prop(x): #x is propegation distance\n",
    "    out=np.array([[1,x],[0,1]])\n",
    "    out=np.mat(out)#cast as matrix for easier multiplication\n",
    "    return out"
   ]
  },
  {
   "cell_type": "code",
   "execution_count": 117,
   "metadata": {},
   "outputs": [],
   "source": [
    "def horzf(R,alpha): #R is radius of curvature for spherical mirror(R = 2f), and alpha is the folding angle in rad\n",
    "    out=np.array([[1,0],[-2/(R*np.cos(alpha)),1]])\n",
    "    out=np.mat(out) #cast as matrix for easier multiplication\n",
    "    return out"
   ]
  },
  {
   "cell_type": "code",
   "execution_count": 118,
   "metadata": {},
   "outputs": [],
   "source": [
    "def vertf(R,alpha): #R is radius of curvature for spherical mirror, and alpha is the folding angle in rad\n",
    "    out=np.array([[1,0],[-2*cos(alpha)/R,1]])\n",
    "    out=np.mat(out)#cast as matrix for easier multiplication\n",
    "    return out"
   ]
  },
  {
   "cell_type": "code",
   "execution_count": 119,
   "metadata": {},
   "outputs": [],
   "source": [
    "def crys_in(nc): #nc is crystal index\n",
    "    out=np.array([[nc,0],[0,1/nc]])\n",
    "    out=np.mat(out)#cast as matrix for easier multiplication\n",
    "    return out"
   ]
  },
  {
   "cell_type": "code",
   "execution_count": 120,
   "metadata": {},
   "outputs": [],
   "source": [
    "def crys_out(nc): #nc is crystal index\n",
    "    out=np.array([[1/nc,0],[0,nc]])\n",
    "    out=np.mat(out)#cast as matrix for easier multiplication\n",
    "    return out"
   ]
  },
  {
   "cell_type": "markdown",
   "metadata": {},
   "source": [
    "Find $M$ matrices for both horinzontal and vertical directions at the crystal focus:"
   ]
  },
  {
   "cell_type": "markdown",
   "metadata": {},
   "source": [
    "In[30]:"
   ]
  },
  {
   "cell_type": "code",
   "execution_count": 121,
   "metadata": {},
   "outputs": [],
   "source": [
    "def M_h_crys(d_1,d_2,alpha):\n",
    "    #round trip martix at crystal,d_1 is physical speration of short arm, d_2 long arm\n",
    "    d_x = (d_1-l_c)/2.\n",
    "    return prop(l_c/2./n_c)*crys_out(n_c)*prop(d_x)*horzf(R,alpha)*prop(d_2)*horzf(R,alpha)*prop(d_x)*crys_in(n_c)*prop(l_c/2./n_c)"
   ]
  },
  {
   "cell_type": "code",
   "execution_count": 122,
   "metadata": {},
   "outputs": [],
   "source": [
    "def M_v_crys(d_1,d_2,alpha):\n",
    "    #round trip martix at crystal,d_1 is physical speration of short arm, d_2 long arm\n",
    "    d_x = (d_1-l_c)/2.\n",
    "    return prop(l_c/2./n_c)*prop(d_x)*vertf(R,alpha)*prop(d_2)*vertf(R,alpha)*prop(d_x)*prop(l_c/2./n_c)"
   ]
  },
  {
   "cell_type": "code",
   "execution_count": 123,
   "metadata": {},
   "outputs": [],
   "source": [
    "M_h=M_h_crys(d_1,d_2,alpha)\n",
    "M_v=M_v_crys(d_1,d_2,alpha)"
   ]
  },
  {
   "cell_type": "markdown",
   "metadata": {},
   "source": [
    "Check the stability condition $\\left|\\frac{A+D}{2}\\right|<1 \\quad$    for both directions"
   ]
  },
  {
   "cell_type": "markdown",
   "metadata": {},
   "source": [
    "In[31]:"
   ]
  },
  {
   "cell_type": "code",
   "execution_count": 124,
   "metadata": {},
   "outputs": [
    {
     "name": "stdout",
     "output_type": "stream",
     "text": [
      "-0.7006081116632668\n",
      "-0.9918738955942936\n"
     ]
    }
   ],
   "source": [
    "def g(M):\n",
    "    out=(M[0,0]+M[1,1])/2\n",
    "    return out\n",
    "print(g(M_h))\n",
    "print(g(M_v))"
   ]
  },
  {
   "cell_type": "markdown",
   "metadata": {},
   "source": [
    "Find waists at crystal focus:"
   ]
  },
  {
   "cell_type": "markdown",
   "metadata": {},
   "source": [
    "In[32]:"
   ]
  },
  {
   "cell_type": "code",
   "execution_count": 125,
   "metadata": {},
   "outputs": [],
   "source": [
    "def waist(M): #M is round trip matrix\n",
    "    out=np.sqrt(-lam*M[0,1]/(np.pi*np.sqrt(1-g(M)**2)))\n",
    "    return out"
   ]
  },
  {
   "cell_type": "code",
   "execution_count": 126,
   "metadata": {},
   "outputs": [
    {
     "name": "stdout",
     "output_type": "stream",
     "text": [
      "Horizontal waist: 70.7 microns\n",
      "Vertical waist: 64.5 microns\n"
     ]
    }
   ],
   "source": [
    "print('Horizontal waist: %.1f microns'%(waist(M_h)*1e6))\n",
    "print('Vertical waist: %.1f microns'%(waist(M_v)*1e6))"
   ]
  },
  {
   "cell_type": "code",
   "execution_count": 127,
   "metadata": {},
   "outputs": [
    {
     "name": "stdout",
     "output_type": "stream",
     "text": [
      "1.7926348950583701\n",
      "89.61381661097441\n"
     ]
    }
   ],
   "source": [
    "a = np.pi*0.02*0.02/(7.01*1e-4)\n",
    "b = a * np.sqrt((1/0.02**2)-1)\n",
    "print(a)\n",
    "print(b)"
   ]
  },
  {
   "cell_type": "markdown",
   "metadata": {},
   "source": [
    "Find waists for long arm:"
   ]
  },
  {
   "cell_type": "markdown",
   "metadata": {},
   "source": [
    "In[33]:"
   ]
  },
  {
   "cell_type": "code",
   "execution_count": 73,
   "metadata": {},
   "outputs": [],
   "source": [
    "def M_h_long(d_1,d_2,alpha):\n",
    "    #round trip martix at long arm,d_1 is physical speration of short arm, d_2 long arm\n",
    "    d_x = (d_1-l_c)/2.\n",
    "    return prop(d_2/2.)*horzf(R,alpha)*prop(d_x)*crys_in(n_c)*prop(l_c/n_c)*crys_out(n_c)*prop(d_x)*horzf(R,alpha)*prop(d_2/2.)"
   ]
  },
  {
   "cell_type": "code",
   "execution_count": 74,
   "metadata": {},
   "outputs": [],
   "source": [
    "def M_v_long(d_1,d_2,alpha):\n",
    "    #round trip martix at long arm,d_1 is physical speration of short arm, d_2 long arm\n",
    "    d_x = (d_1-l_c)/2.\n",
    "    return prop(d_2/2.)*vertf(R,alpha)*prop(d_x)*prop(l_c/n_c)*prop(d_x)*vertf(R,alpha)*prop(d_2/2.)"
   ]
  },
  {
   "cell_type": "code",
   "execution_count": 75,
   "metadata": {},
   "outputs": [
    {
     "name": "stdout",
     "output_type": "stream",
     "text": [
      "Horizontal waist: 154.0 microns ,no crsytal\n",
      "Vertical waist: nan microns ,no crystal\n"
     ]
    },
    {
     "name": "stderr",
     "output_type": "stream",
     "text": [
      "C:\\Users\\Jianhui\\AppData\\Local\\Temp\\ipykernel_12380\\936263719.py:2: RuntimeWarning: invalid value encountered in sqrt\n",
      "  out=np.sqrt(-lam*M[0,1]/(np.pi*np.sqrt(1-g(M)**2)))\n"
     ]
    }
   ],
   "source": [
    "M_h2=prop(d_2/2.)*horzf(R,alpha)*prop(d_short)*horzf(R,alpha)*prop(d_2/2.)\n",
    "M_v2=prop(d_2/2.)*vertf(R,alpha)*prop(d_short)*vertf(R,alpha)*prop(d_2/2.)\n",
    "print('Horizontal waist: %.1f microns'%(waist(M_h2)*1e6),',no crsytal')\n",
    "print('Vertical waist: %.1f microns'%(waist(M_v2)*1e6),',no crystal')"
   ]
  },
  {
   "cell_type": "markdown",
   "metadata": {},
   "source": [
    "Plot Waists over range of short arm lengths"
   ]
  },
  {
   "cell_type": "markdown",
   "metadata": {},
   "source": [
    "In[34]:"
   ]
  },
  {
   "cell_type": "code",
   "execution_count": 78,
   "metadata": {},
   "outputs": [
    {
     "name": "stderr",
     "output_type": "stream",
     "text": [
      "C:\\Users\\Jianhui\\AppData\\Local\\Temp\\ipykernel_12380\\936263719.py:2: RuntimeWarning: invalid value encountered in sqrt\n",
      "  out=np.sqrt(-lam*M[0,1]/(np.pi*np.sqrt(1-g(M)**2)))\n"
     ]
    }
   ],
   "source": [
    "d1a=np.linspace(110,115,100)*mm\n",
    "wh1=np.zeros(len(d1a))\n",
    "wv1=np.zeros(len(d1a))\n",
    "wh2=np.zeros(len(d1a))\n",
    "wv2=np.zeros(len(d1a))\n",
    "for i in range(len(d1a)):\n",
    "    wh1[i]=waist(M_h_crys(d1a[i],d_2,alpha))*1e6\n",
    "    wv1[i]=waist(M_v_crys(d1a[i],d_2,alpha))*1e6\n",
    "    wh2[i]=waist(M_h_long(d1a[i],d_2,alpha))*1e6\n",
    "    wv2[i]=waist(M_v_long(d1a[i],d_2,alpha))*1e6"
   ]
  },
  {
   "cell_type": "markdown",
   "metadata": {},
   "source": [
    "In[35]:"
   ]
  },
  {
   "cell_type": "code",
   "execution_count": 79,
   "metadata": {},
   "outputs": [
    {
     "data": {
      "text/plain": [
       "(0.0, 500.0)"
      ]
     },
     "execution_count": 79,
     "metadata": {},
     "output_type": "execute_result"
    },
    {
     "data": {
      "image/png": "[encoded data removed]",
      "text/plain": [
       "<Figure size 432x288 with 1 Axes>"
      ]
     },
     "metadata": {
      "needs_background": "light"
     },
     "output_type": "display_data"
    },
    {
     "data": {
      "image/png": "[encoded data removed]",
      "text/plain": [
       "<Figure size 432x288 with 1 Axes>"
      ]
     },
     "metadata": {
      "needs_background": "light"
     },
     "output_type": "display_data"
    }
   ],
   "source": [
    "fig2 = plt.figure()\n",
    "plt.plot(d1a/mm,wv1,label='vetical waist')\n",
    "plt.plot(d1a/mm,wh1,label='horizontal waist')\n",
    "plt.xlabel('short arm length [mm]')\n",
    "plt.ylabel(r'waist [$\\mu$m]')\n",
    "plt.title('waists in crystal (short arm)')\n",
    "plt.legend(loc=2)\n",
    "fig3 = plt.figure()\n",
    "plt.plot(d1a/mm,wv2,label='vetical waist')\n",
    "plt.plot(d1a/mm,wh2,label='horizontal waist')\n",
    "plt.xlabel('short arm length [mm]')\n",
    "plt.ylabel(r'waist [$\\mu$m]')\n",
    "plt.title('waists in long arm')\n",
    "plt.legend(loc=1)\n",
    "plt.ylim(0,500)"
   ]
  },
  {
   "cell_type": "markdown",
   "metadata": {},
   "source": [
    "In[ ]:"
   ]
  },
  {
   "cell_type": "markdown",
   "metadata": {},
   "source": [
    "In[ ]:"
   ]
  },
  {
   "cell_type": "markdown",
   "metadata": {},
   "source": [
    "In[ ]:"
   ]
  }
 ],
 "metadata": {
  "kernelspec": {
   "display_name": "Python 3 (ipykernel)",
   "language": "python",
   "name": "python3"
  },
  "language_info": {
   "codemirror_mode": {
    "name": "ipython",
    "version": 3
   },
   "file_extension": ".py",
   "mimetype": "text/x-python",
   "name": "python",
   "nbconvert_exporter": "python",
   "pygments_lexer": "ipython3",
   "version": "3.9.12"
  }
 },
 "nbformat": 4,
 "nbformat_minor": 2
}
